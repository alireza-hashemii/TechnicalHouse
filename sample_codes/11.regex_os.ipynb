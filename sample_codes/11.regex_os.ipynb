{
 "cells": [
  {
   "cell_type": "markdown",
   "metadata": {
    "vscode": {
     "languageId": "plaintext"
    }
   },
   "source": [
    "# `OS`   operating system dependent functionality "
   ]
  },
  {
   "cell_type": "code",
   "execution_count": null,
   "metadata": {},
   "outputs": [],
   "source": [
    "import os\n",
    "\n",
    "# EAFP, Easier to Ask for Forgiveness than Permission.\n",
    "# LBYL, Look Before You Leap"
   ]
  },
  {
   "cell_type": "code",
   "execution_count": null,
   "metadata": {},
   "outputs": [],
   "source": [
    "# LBYL - Not recommended.\n",
    "def file_check():\n",
    "    if os.access(\"myfile\", os.R_OK):\n",
    "        with open(\"myfile\") as fp:\n",
    "            return fp.read()\n",
    "    return \"some default data\"\n",
    "\n",
    "print(file_check())\n",
    "\n",
    "\n",
    "# os.F_OK\n",
    "# os.R_OK\n",
    "# os.W_OK\n",
    "# os.X_OK\n",
    "\n",
    "# Values to pass as the mode parameter of access() \n",
    "# to test the existence, readability, writability \n",
    "# and executability of path, respectively.\n"
   ]
  },
  {
   "cell_type": "code",
   "execution_count": null,
   "metadata": {},
   "outputs": [],
   "source": [
    "# EAFP - A good idea\n",
    "def file_check_correct():\n",
    "    try:\n",
    "        fp = open(\"myfile\")\n",
    "    except PermissionError:\n",
    "        return \"some default data\"\n",
    "    else:\n",
    "        with fp:\n",
    "            return fp.read()"
   ]
  },
  {
   "cell_type": "code",
   "execution_count": null,
   "metadata": {},
   "outputs": [],
   "source": [
    "# 2 - getcwd\n",
    "\n",
    "current_dir = os.getcwd()\n",
    "current_dir_b = os.getcwdb()\n",
    "\n",
    "print(f\"We are here at the moment: {current_dir}\")\n",
    "\n",
    "\n",
    "print(f\"In String First Character is -> {current_dir[0]}\")\n",
    "print(f\"In Byte First Character is -> {current_dir_b[0]}\")"
   ]
  },
  {
   "cell_type": "code",
   "execution_count": null,
   "metadata": {},
   "outputs": [],
   "source": [
    "# 3 - os.link()\n",
    "\n",
    "source = 'm.txt'\n",
    "link_name = 'hard_link_to_original.txt'\n",
    "\n",
    "# Create a hard link to the original file\n",
    "os.link(source, link_name)\n",
    "\n",
    "print(f\"Hard link created: {link_name} -> {source}\")\n",
    "\n",
    "with open(f\"{link_name}\", 'w') as f:\n",
    "    f.write(\"Hellooooo\")"
   ]
  },
  {
   "cell_type": "code",
   "execution_count": null,
   "metadata": {},
   "outputs": [],
   "source": [
    "# os.listdir(path='.')\n",
    "\n",
    "directories = os.listdir(current_dir)\n",
    "print(directories)"
   ]
  },
  {
   "cell_type": "code",
   "execution_count": 40,
   "metadata": {},
   "outputs": [
    {
     "name": "stdout",
     "output_type": "stream",
     "text": [
      "['C:\\\\', 'D:\\\\', 'E:\\\\', 'F:\\\\']\n"
     ]
    }
   ],
   "source": [
    "# os.listdrives()\n",
    "# how many drives are there on your windows system?\n",
    "\n",
    "drives = os.listdrives()\n",
    "print(drives)"
   ]
  },
  {
   "cell_type": "code",
   "execution_count": null,
   "metadata": {},
   "outputs": [],
   "source": [
    "# os.lstat()\n",
    "print(os.lstat(current_dir))"
   ]
  },
  {
   "cell_type": "markdown",
   "metadata": {},
   "source": [
    "\n",
    "    st_mode: The file type and mode (permissions).\n",
    "    st_ino: The inode number (unique identifier for the file).\n",
    "    st_dev: The device ID on which the file resides.\n",
    "    st_nlink: The number of hard links to the file.\n",
    "    st_uid: The user ID of the file owner.\n",
    "    st_gid: The group ID of the file owner.\n",
    "    st_size: The size of the file in bytes.\n",
    "    st_atime: The time of last access.\n",
    "    st_mtime: The time of last modification.\n",
    "    st_ctime: The time of last status change (creation time on some systems).\n"
   ]
  },
  {
   "cell_type": "code",
   "execution_count": null,
   "metadata": {},
   "outputs": [],
   "source": [
    "# when was the last change to a drive?\n",
    "import datetime\n",
    "\n",
    "drive_name = input(\"Which Drive you want to check for last change?: \")\n",
    "\n",
    "try:\n",
    "    stat_object = os.lstat(drive_name)\n",
    "    to_datetime = datetime.datetime.fromtimestamp(stat_object.st_atime)\n",
    "    print(to_datetime)\n",
    "\n",
    "except FileNotFoundError:\n",
    "    print(f\"No file named '{drive_name}' was found\")"
   ]
  },
  {
   "cell_type": "code",
   "execution_count": null,
   "metadata": {},
   "outputs": [],
   "source": [
    "# os.mkdir(path)\n",
    "\n",
    "new_path = current_dir + r'\\salam'\n",
    "os.mkdir(new_path)"
   ]
  },
  {
   "cell_type": "code",
   "execution_count": 54,
   "metadata": {},
   "outputs": [],
   "source": [
    "# os.makedirs(path)\n",
    "\n",
    "new_path_recursive = current_dir + r'\\mainfolder\\secondary\\lastfolder'\n",
    "os.makedirs(new_path_recursive, exist_ok=True)"
   ]
  },
  {
   "cell_type": "code",
   "execution_count": null,
   "metadata": {},
   "outputs": [],
   "source": [
    "# os.remove(path) for file path not directory\n",
    "try:\n",
    "    E_PATH = 'E:\\\\' + r'\\salam.txt'\n",
    "    rm = os.remove(E_PATH) \n",
    "\n",
    "except FileNotFoundError:\n",
    "    print('There is no file to delete.')"
   ]
  },
  {
   "cell_type": "code",
   "execution_count": null,
   "metadata": {},
   "outputs": [],
   "source": [
    "# os.rmdir(path) and removedirs\n",
    "\n",
    "os.removedirs(current_dir + r'\\mainfolder\\secondary\\lastfolder')"
   ]
  },
  {
   "cell_type": "code",
   "execution_count": null,
   "metadata": {},
   "outputs": [],
   "source": [
    "# os.rename() - rename file or dirs\n",
    "\n",
    "old_dir_path = current_dir + r'\\old'\n",
    "new_dir_path = current_dir + r'\\new'\n",
    "\n",
    "os.rename(old_dir_path, new_path)\n",
    "\n",
    "os.rename(current_dir + r'\\G.txt', current_dir + r'\\G')"
   ]
  },
  {
   "cell_type": "code",
   "execution_count": null,
   "metadata": {},
   "outputs": [],
   "source": [
    "# os.scandir()\n",
    "# Using scandir() instead of listdir() can \n",
    "# significantly increase the performance of code\n",
    "\n",
    "\n",
    "scan_result = os.scandir(current_dir)\n",
    "for entity in scan_result:\n",
    "    print(entity)"
   ]
  },
  {
   "cell_type": "code",
   "execution_count": null,
   "metadata": {},
   "outputs": [],
   "source": [
    "# this example shows all the files excluding directories in a path\n",
    "\n",
    "with os.scandir(current_dir) as it:\n",
    "    for entry in it:\n",
    "        if not entry.name.startswith('.') and entry.is_file():\n",
    "            print(entry.name)"
   ]
  },
  {
   "cell_type": "code",
   "execution_count": null,
   "metadata": {},
   "outputs": [],
   "source": [
    "# os.walk()\n",
    "# dirpath, dirnames, filenames\n",
    "\n",
    "r = os.walk(current_dir)\n",
    "for i in r:\n",
    "    print(i)"
   ]
  },
  {
   "cell_type": "markdown",
   "metadata": {},
   "source": [
    "# `os.path` — Common pathname manipulations"
   ]
  },
  {
   "cell_type": "markdown",
   "metadata": {},
   "source": [
    "## Absolute Vs Relative Path"
   ]
  },
  {
   "cell_type": "code",
   "execution_count": 95,
   "metadata": {},
   "outputs": [
    {
     "name": "stdout",
     "output_type": "stream",
     "text": [
      "c:\\Users\\AVA\\Desktop\\Mojtama\\sample_codes\n"
     ]
    }
   ],
   "source": [
    "# os.path.abspath(path)\n",
    "\n",
    "abs_path = os.path.abspath(current_dir)\n",
    "print(abs_path)"
   ]
  },
  {
   "cell_type": "code",
   "execution_count": 122,
   "metadata": {},
   "outputs": [
    {
     "name": "stdout",
     "output_type": "stream",
     "text": [
      "c:\\Users\\AVA\\Desktop\\Mojtama\\sample_codes\n",
      "qs.txt\n"
     ]
    }
   ],
   "source": [
    "# os.path.basename(path)\n",
    "\n",
    "path_basename = os.path.basename(current_dir + r'\\qs.txt')\n",
    "print(current_dir)\n",
    "print(path_basename)"
   ]
  },
  {
   "cell_type": "code",
   "execution_count": null,
   "metadata": {},
   "outputs": [],
   "source": [
    "# os.path.commonprefix(paths)\n",
    "\n",
    "common_prefix = os.path.commonprefix(['/usr/lib', '/usr/local/lib'])\n",
    "print(common_prefix)\n",
    "\n",
    "print(os.path.commonpath(['/usr/lib', '/usr/local/lib']))"
   ]
  },
  {
   "cell_type": "code",
   "execution_count": null,
   "metadata": {},
   "outputs": [],
   "source": [
    "# os.path.dirname(path)\n",
    "\n",
    "d_name = os.path.dirname(current_dir)\n",
    "print(d_name)"
   ]
  },
  {
   "cell_type": "code",
   "execution_count": null,
   "metadata": {},
   "outputs": [],
   "source": [
    "# os.path.exists(path)\n",
    "\n",
    "print(os.path.exists(current_dir))\n",
    "print(os.path.exists(current_dir + r'\\tests'))"
   ]
  },
  {
   "cell_type": "code",
   "execution_count": null,
   "metadata": {},
   "outputs": [],
   "source": [
    "# os.path.getsize()\n",
    "\n",
    "print(os.path.getsize(current_dir))"
   ]
  },
  {
   "cell_type": "code",
   "execution_count": null,
   "metadata": {},
   "outputs": [],
   "source": [
    "# os.path.isfile()\n",
    "\n",
    "print(os.path.isfile(current_dir))"
   ]
  },
  {
   "cell_type": "code",
   "execution_count": 140,
   "metadata": {},
   "outputs": [
    {
     "name": "stdout",
     "output_type": "stream",
     "text": [
      "('c:', '\\\\Users\\\\AVA\\\\Desktop\\\\Mojtama\\\\sample_codes')\n"
     ]
    }
   ],
   "source": [
    "# os.path.splitdrive(path)\n",
    "\n",
    "splited_ =  os.path.splitdrive(current_dir)\n",
    "print(splited_)"
   ]
  },
  {
   "cell_type": "code",
   "execution_count": 123,
   "metadata": {},
   "outputs": [
    {
     "name": "stdout",
     "output_type": "stream",
     "text": [
      "('c:\\\\Users\\\\AVA\\\\Desktop\\\\Mojtama\\\\sample_codes\\\\qs', '.txt')\n"
     ]
    }
   ],
   "source": [
    "# os.path.splitext('foo.bar.exe')\n",
    "\n",
    "ext_separation = os.path.splitext(current_dir + r'\\qs.txt')\n",
    "print(ext_separation)"
   ]
  },
  {
   "cell_type": "markdown",
   "metadata": {},
   "source": [
    "1. check this folder and analyze in , eventually report the quantity of python and non-python files.\n",
    "\n",
    "2. ask a user a drive name, then make a file in that drive and write his name into that\n",
    "\n",
    "3. change the name of every file in a directory from x1 to xn\n",
    "\n",
    "4. change the predefined order of mp3 files in a folder. \n",
    "\n",
    "5. recieve an input which is a path, and then find the derive from the given path.\n",
    "\n",
    "6. rename every directory, with the new name from dir1 to dirn.\n",
    "\n",
    "7. make search file bar of windows, recieve a drive and then search for a specified file.\n",
    "\n",
    "8.what would be the mode in context manager if we don't specify it?\n",
    "\n",
    "9.why getting an item using index in byte string, actually returns number?\n",
    "\n",
    "10.what the letter 'r' does before a string?\n",
    "\n",
    "11. write a function that recieves a path and new name, if that path ends to a file it renames the filename. In other scenarios it raises an error\n",
    "\n",
    "12. write a function that recieves a path and tell you how many dirs and how many file are located in that particular path."
   ]
  },
  {
   "cell_type": "code",
   "execution_count": null,
   "metadata": {},
   "outputs": [],
   "source": [
    "# 1 \n",
    "def analyze_pyfiles(path: str):\n",
    "    \"\"\"\n",
    "    checks quantity of pythonic files with extenstion ipynb\n",
    "    \"\"\"\n",
    "    if not isinstance(path, str):\n",
    "        raise ValueError(f'object of type {type(path)} is not allowed as function argument')\n",
    "\n",
    "    python_files = 0\n",
    "    non_python = 0\n",
    "    for item in os.scandir(path):\n",
    "        if os.path.isfile(item) and os.path.splitext(item)[-1] == '.ipynb':\n",
    "            python_files += 1\n",
    "        else:\n",
    "            non_python += 1\n",
    "    \n",
    "    return [python_files, non_python]\n",
    "\n",
    "print(analyze_pyfiles(current_dir))"
   ]
  },
  {
   "cell_type": "code",
   "execution_count": null,
   "metadata": {},
   "outputs": [],
   "source": [
    "# 2 \n",
    "def specific_r_name(drive:str, name:str):\n",
    "    user_drive = drive.upper() + ':\\\\'\n",
    "    drive_name = os.listdrives()\n",
    "\n",
    "    if not user_drive in drive_name:\n",
    "        raise ValueError(f\"In this system there is no drive called {drive}\")\n",
    "\n",
    "    full_path = os.path.join(user_drive , name)\n",
    "    # create a file in that dir\n",
    "    with open(full_path , 'w') as new_file:\n",
    "        new_file.write(name)\n",
    "    \n",
    "    return \"Succusfully Written the Name\"\n",
    "\n",
    "print(specific_r_name('ed', \"mohammad ali\"))"
   ]
  }
 ],
 "metadata": {
  "kernelspec": {
   "display_name": "base",
   "language": "python",
   "name": "python3"
  },
  "language_info": {
   "codemirror_mode": {
    "name": "ipython",
    "version": 3
   },
   "file_extension": ".py",
   "mimetype": "text/x-python",
   "name": "python",
   "nbconvert_exporter": "python",
   "pygments_lexer": "ipython3",
   "version": "3.12.7"
  }
 },
 "nbformat": 4,
 "nbformat_minor": 2
}
