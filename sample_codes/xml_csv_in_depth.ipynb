{
 "cells": [
  {
   "cell_type": "code",
   "execution_count": null,
   "metadata": {},
   "outputs": [],
   "source": [
    "from bs4 import BeautifulSoup\n",
    "\n",
    "\n",
    "# Reading the data inside the xml\n",
    "# file to a variable under the name \n",
    "# data\n",
    "with open('b.xml', 'r') as f:\n",
    "    data = f.read()\n",
    "\n",
    "# Passing the stored data inside\n",
    "# the beautifulsoup parser, storing\n",
    "# the returned object \n",
    "Bs_data = BeautifulSoup(data, \"xml\")\n",
    "\n",
    "# Finding all instances of tag \n",
    "# `unique`\n",
    "b_unique = Bs_data.find_all('person')\n",
    "\n",
    "for person in b_unique:\n",
    "    for subtag in person:\n",
    "        print(subtag, end=\" \")\n",
    "    print()\n",
    "\n",
    "# # Using find() to extract attributes \n",
    "# # of the first instance of the tag\n",
    "b_name = Bs_data.find('person', {'age':30})\n",
    "\n",
    "print(b_name)\n",
    "\n",
    "\n",
    "\n"
   ]
  },
  {
   "cell_type": "code",
   "execution_count": null,
   "metadata": {},
   "outputs": [],
   "source": [
    "from bs4 import BeautifulSoup\n",
    "\n",
    "# Reading data from the xml file\n",
    "with open('b.xml', 'r') as f:\n",
    "    data = f.read()\n",
    "\n",
    "# Passing the data of the xml\n",
    "# file to the xml parser of\n",
    "# beautifulsoup\n",
    "bs_data = BeautifulSoup(data, 'xml')\n",
    "\n",
    "# A loop for replacing the value\n",
    "# of attribute `test` to WHAT !!\n",
    "# The tag is found by the clause\n",
    "# `bs_data.find_all('child', {'name':'Frank'})`\n",
    "for tag in bs_data.find_all('person'):\n",
    "    tag['test'] = \"WHAT !!\"\n",
    "    print(tag)\n",
    "\n",
    "# Output the contents of the \n",
    "# modified xml file\n",
    "# print(bs_data.prettify())\n",
    "with open('c.xml', 'w') as f:\n",
    "    f.write(str(tag))"
   ]
  },
  {
   "cell_type": "code",
   "execution_count": 91,
   "metadata": {},
   "outputs": [
    {
     "name": "stdout",
     "output_type": "stream",
     "text": [
      "{1: 1, '1': 2, (1, 0): 4}\n",
      "\n",
      "\n",
      "\n"
     ]
    }
   ],
   "source": [
    "confusion={ }\n",
    "confusion[1]=1\n",
    "confusion['1']=2\n",
    "confusion[1,0]=4\n",
    "Sum=0\n",
    "print(confusion)\n",
    "for k in confusion:\n",
    "    print()"
   ]
  },
  {
   "cell_type": "code",
   "execution_count": 97,
   "metadata": {},
   "outputs": [
    {
     "ename": "TypeError",
     "evalue": "setattr expected 3 arguments, got 2",
     "output_type": "error",
     "traceback": [
      "\u001b[1;31m---------------------------------------------------------------------------\u001b[0m",
      "\u001b[1;31mTypeError\u001b[0m                                 Traceback (most recent call last)",
      "Cell \u001b[1;32mIn[97], line 6\u001b[0m\n\u001b[0;32m      4\u001b[0m x \u001b[38;5;241m=\u001b[39m change(\u001b[38;5;241m1\u001b[39m, \u001b[38;5;241m2\u001b[39m, \u001b[38;5;241m3\u001b[39m)\n\u001b[0;32m      5\u001b[0m y \u001b[38;5;241m=\u001b[39m \u001b[38;5;28mgetattr\u001b[39m(x, \u001b[38;5;124m\"\u001b[39m\u001b[38;5;124ma\u001b[39m\u001b[38;5;124m\"\u001b[39m)\n\u001b[1;32m----> 6\u001b[0m \u001b[38;5;28msetattr\u001b[39m(x, \u001b[38;5;124m\"\u001b[39m\u001b[38;5;124ma, y+1\u001b[39m\u001b[38;5;124m\"\u001b[39m)\n\u001b[0;32m      7\u001b[0m \u001b[38;5;28mprint\u001b[39m(x\u001b[38;5;241m.\u001b[39ma)\n",
      "\u001b[1;31mTypeError\u001b[0m: setattr expected 3 arguments, got 2"
     ]
    }
   ],
   "source": [
    "class change:\n",
    "    def __init__(self, x, y, z):\n",
    "        self.a = x + y + z\n",
    "x = change(1, 2, 3)\n",
    "y = getattr(x, \"a\")\n",
    "setattr(x, \"a, y+1\")\n",
    "print(x.a)"
   ]
  }
 ],
 "metadata": {
  "kernelspec": {
   "display_name": "base",
   "language": "python",
   "name": "python3"
  },
  "language_info": {
   "codemirror_mode": {
    "name": "ipython",
    "version": 3
   },
   "file_extension": ".py",
   "mimetype": "text/x-python",
   "name": "python",
   "nbconvert_exporter": "python",
   "pygments_lexer": "ipython3",
   "version": "3.12.7"
  }
 },
 "nbformat": 4,
 "nbformat_minor": 2
}
