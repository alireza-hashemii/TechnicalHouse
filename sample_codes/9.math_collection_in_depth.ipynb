{
 "cells": [
  {
   "cell_type": "markdown",
   "metadata": {},
   "source": [
    "# Number-theoretic functions"
   ]
  },
  {
   "cell_type": "code",
   "execution_count": null,
   "metadata": {},
   "outputs": [],
   "source": [
    "import math \n",
    "\n",
    "\n",
    "\n",
    "# comb\n",
    "combs = math.comb(5, 2)\n",
    "\n",
    "print(f\"There are {combs} posible combinations\")"
   ]
  },
  {
   "cell_type": "code",
   "execution_count": null,
   "metadata": {},
   "outputs": [],
   "source": [
    "# factorial \n",
    "\n",
    "try: \n",
    "    n_input = int(input(\": \"))\n",
    "    fact_n = math.factorial(n_input)\n",
    "    print(fact_n)\n",
    "    \n",
    "except ValueError:\n",
    "    print(\"Not provided a number, maybe next time\")\n"
   ]
  },
  {
   "cell_type": "code",
   "execution_count": null,
   "metadata": {},
   "outputs": [],
   "source": [
    "# gcd - greatest common divisor\n",
    "\n",
    "try:\n",
    "    numbers_ = []\n",
    "    for i in range(3):\n",
    "        number = int(input(\"Number: \"))\n",
    "        numbers_.append(number)\n",
    "\n",
    "    gcd_is = math.gcd(*numbers_)\n",
    "    print(gcd_is)\n",
    "\n",
    "except ValueError:\n",
    "    print(\"Not allowed to compute his\")"
   ]
  },
  {
   "cell_type": "code",
   "execution_count": null,
   "metadata": {},
   "outputs": [],
   "source": [
    "# isqrt\n",
    "\n",
    "number = 45\n",
    "isqrt = math.isqrt(number)\n",
    "print(f\"The integer part of square root of {number} is {isqrt}\")"
   ]
  },
  {
   "cell_type": "code",
   "execution_count": null,
   "metadata": {},
   "outputs": [],
   "source": [
    "# least common multiple \n",
    "n1 = 15\n",
    "n2 = 10\n",
    "n3 = 20\n",
    "\n",
    "lcm = math.lcm(n1, n2, n3)\n",
    "print(lcm)"
   ]
  },
  {
   "cell_type": "code",
   "execution_count": null,
   "metadata": {},
   "outputs": [],
   "source": [
    "# permutation \n",
    "\n",
    "perm = math.perm(3, 2)\n",
    "print(perm)"
   ]
  },
  {
   "cell_type": "markdown",
   "metadata": {},
   "source": [
    "# Floating point arithmetic"
   ]
  },
  {
   "cell_type": "code",
   "execution_count": null,
   "metadata": {},
   "outputs": [],
   "source": [
    "# ceil - the smallest integer greater than or equal to x\n",
    "\n",
    "number = float(input(\": \"))\n",
    "ceiled_version = math.ceil(number)\n",
    "\n",
    "print(ceiled_version)\n",
    "print(f\"your number is {math.ceil(number) - number:.3f} away from {math.ceil(number)}\")"
   ]
  },
  {
   "cell_type": "code",
   "execution_count": null,
   "metadata": {},
   "outputs": [],
   "source": [
    "# fabs - absolute value\n",
    "\n",
    "abs_number = math.fabs(-14.4)\n",
    "print(abs_number)"
   ]
  },
  {
   "cell_type": "code",
   "execution_count": null,
   "metadata": {},
   "outputs": [],
   "source": [
    "# floor - the largest integer less than or equal to x\n",
    "\n",
    "number = float(input(\": \"))\n",
    "floored_number = math.floor(number)\n",
    "print(floored_number)"
   ]
  },
  {
   "cell_type": "code",
   "execution_count": null,
   "metadata": {},
   "outputs": [],
   "source": [
    "# fuse multiply-add (x * y) + z -(added in version 3.13)\n",
    "\n",
    "eq = math.fma(4,6,7)\n",
    "print(eq)"
   ]
  },
  {
   "cell_type": "markdown",
   "metadata": {},
   "source": [
    "# Power, exponential and logarithmic functions"
   ]
  },
  {
   "cell_type": "code",
   "execution_count": null,
   "metadata": {},
   "outputs": [],
   "source": [
    "# cbrt - cube root of x\n",
    "\n",
    "cbrt_n = math.cbrt(27)\n",
    "print(cbrt_n)"
   ]
  },
  {
   "cell_type": "code",
   "execution_count": null,
   "metadata": {},
   "outputs": [],
   "source": [
    "# pow - x raise to the power of y \n",
    "print(math.pow(4, 2))"
   ]
  },
  {
   "cell_type": "markdown",
   "metadata": {},
   "source": [
    "# Random"
   ]
  },
  {
   "cell_type": "code",
   "execution_count": null,
   "metadata": {},
   "outputs": [],
   "source": [
    "import random\n",
    "\n",
    "random.seed(4)\n",
    "print(random.randint(1, 100))"
   ]
  },
  {
   "cell_type": "code",
   "execution_count": null,
   "metadata": {},
   "outputs": [],
   "source": [
    "# getstate \n",
    "\n",
    "get_state = random.getstate()\n",
    "print(get_state)"
   ]
  },
  {
   "cell_type": "code",
   "execution_count": null,
   "metadata": {},
   "outputs": [],
   "source": [
    "# randombytes\n",
    "\n",
    "r_bytes = random.randbytes(10)\n",
    "print(r_bytes)\n",
    "\n",
    "for b in r_bytes:\n",
    "    print(b, chr(b))"
   ]
  },
  {
   "cell_type": "code",
   "execution_count": null,
   "metadata": {},
   "outputs": [],
   "source": [
    "# randrange\n",
    "\n",
    "random_range = random.randrange(10, 100, 5)\n",
    "print(random_range)"
   ]
  },
  {
   "cell_type": "markdown",
   "metadata": {},
   "source": [
    "#### choice and choices"
   ]
  },
  {
   "cell_type": "code",
   "execution_count": null,
   "metadata": {},
   "outputs": [],
   "source": [
    "names_collection = ['amir', 'sepehr', 'mohammad', 'sara', 'nazanin', 'ali']\n",
    "\n",
    "_1random = random.choice(names_collection)\n",
    "_2random = random.choices(names_collection, k=2)\n",
    "\n",
    "print(_1random)\n",
    "print(_2random)"
   ]
  },
  {
   "cell_type": "code",
   "execution_count": null,
   "metadata": {},
   "outputs": [],
   "source": [
    "# shuffle\n",
    "names_collection = ['amir', 'sepehr', 'mohammad', 'sara', 'nazanin', 'ali']\n",
    "random.shuffle(names_collection)"
   ]
  }
 ],
 "metadata": {
  "kernelspec": {
   "display_name": "base",
   "language": "python",
   "name": "python3"
  },
  "language_info": {
   "codemirror_mode": {
    "name": "ipython",
    "version": 3
   },
   "file_extension": ".py",
   "mimetype": "text/x-python",
   "name": "python",
   "nbconvert_exporter": "python",
   "pygments_lexer": "ipython3",
   "version": "3.12.7"
  }
 },
 "nbformat": 4,
 "nbformat_minor": 2
}
