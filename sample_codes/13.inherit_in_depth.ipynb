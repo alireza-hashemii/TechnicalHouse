{
 "cells": [
  {
   "cell_type": "markdown",
   "metadata": {},
   "source": [
    "### In the programming world, duplicate code is considered evil."
   ]
  },
  {
   "cell_type": "markdown",
   "metadata": {
    "vscode": {
     "languageId": "plaintext"
    }
   },
   "source": [
    "Contents: \n",
    "    • Basic inheritance\n",
    "    • Inheriting from built-in types\n",
    "    • Multiple inheritance\n",
    "    • Polymorphism and duck typing"
   ]
  },
  {
   "cell_type": "code",
   "execution_count": null,
   "metadata": {},
   "outputs": [],
   "source": [
    "class Contact:\n",
    "    \"\"\"\n",
    "    a class that simply add new objects to \n",
    "    it's list so we can recall every\n",
    "    single one of them eventually. \n",
    "    \"\"\"\n",
    "    contacts_list: list[\"Contact\"] = []\n",
    "\n",
    "    def __init__(self, name:str, email:str) -> None:\n",
    "        self.name = name\n",
    "        self.email = email\n",
    "        Contact.contacts_list.append(self)\n",
    "    \n",
    "\n",
    "    def search(self, search_contact):\n",
    "        for contact in Contact.contacts_list:\n",
    "            if contact.name == search_contact:\n",
    "                return f\"Found {search_contact} in Position {Contact.contacts_list.index(search_contact)}\"\n",
    "\n",
    "\n",
    "am = Contact(\"amir\", 'a@gmail.com')\n",
    "se = Contact(\"sepehr\", 'b@gmail.com')\n",
    "sa = Contact(\"sara\", 'c@gmail.com')\n",
    "print(Contact.contacts_list)\n",
    "print(am.search('sara'))"
   ]
  },
  {
   "cell_type": "markdown",
   "metadata": {},
   "source": [
    "### we can inherit from built-ins to add some extra functionality. "
   ]
  },
  {
   "cell_type": "code",
   "execution_count": null,
   "metadata": {},
   "outputs": [],
   "source": [
    "class ContactList(list):\n",
    "    def match_finder(self, name):\n",
    "        matching_content: list['Contact'] = []\n",
    "\n",
    "        for contact in self:\n",
    "            if name in contact.name:\n",
    "                matching_content.append(contact)\n",
    "                \n",
    "        return matching_content\n",
    "    \n",
    "\n",
    "class ContactV2:\n",
    "    all_contacts = ContactList()\n",
    "\n",
    "    def __init__(self, name: str, email: str) -> None:\n",
    "        self.name = name\n",
    "        self.email = email\n",
    "        ContactV2.all_contacts.append(self)\n",
    "\n",
    "    def __repr__(self) -> str:\n",
    "        return (\n",
    "        f\"{self.__class__.__name__}(\"\n",
    "        f\"{self.name}, {self.email})\"\n",
    "        )\n",
    "\n",
    "j1 = ContactV2(\"John A\", 'j1@gmail.com')\n",
    "j2 = ContactV2(\"John B\", 'j2@gmail.com')\n",
    "j3 = ContactV2(\"John C\", 'j3@gmail.com')\n",
    "\n",
    "result = [c.name for c in ContactV2.all_contacts.match_finder('John')]\n",
    "print(result)"
   ]
  },
  {
   "cell_type": "markdown",
   "metadata": {},
   "source": [
    "# Overriding and Super"
   ]
  },
  {
   "cell_type": "code",
   "execution_count": null,
   "metadata": {},
   "outputs": [],
   "source": [
    "# Imagine we have a friend class as subclass and \n",
    "# we need to oderride init method of superclass\n",
    "# and pass everything it need to that initializer\n",
    "# but the code below is NOT A GOOD IDEA\n",
    "\n",
    "class Friend(Contact):\n",
    "    def __init__(self, name: str, email: str, phone: str) -> None:\n",
    "        self.name = name\n",
    "        self.email = email\n",
    "        self.phone = phone"
   ]
  },
  {
   "cell_type": "code",
   "execution_count": null,
   "metadata": {},
   "outputs": [],
   "source": [
    "# A better approach would be as follows\n",
    "\n",
    "class Friend(Contact):\n",
    "    def __init__(self, name: str, email: str, phone: str):\n",
    "        super().__init__(name, email)\n",
    "\n",
    "        self.phone = phone"
   ]
  },
  {
   "cell_type": "markdown",
   "metadata": {},
   "source": [
    "A super() call can be made inside any method. Therefore, all methods can be \n",
    "modified via overriding and calls to super()."
   ]
  },
  {
   "cell_type": "code",
   "execution_count": null,
   "metadata": {},
   "outputs": [],
   "source": [
    "from collections import OrderedDict \n",
    "\n",
    "an_ordered_dict = OrderedDict()\n",
    "an_ordered_dict['one'] = 1\n",
    "an_ordered_dict['two'] = 2\n",
    "print(an_ordered_dict)\n",
    "an_ordered_dict['one'] = \"Changed\""
   ]
  },
  {
   "cell_type": "code",
   "execution_count": 16,
   "metadata": {},
   "outputs": [
    {
     "name": "stdout",
     "output_type": "stream",
     "text": [
      "LastUpdateOrderedDict({'one': 1, 'two': 2})\n",
      "LastUpdateOrderedDict({'two': 2, 'one': 'Changed'})\n"
     ]
    }
   ],
   "source": [
    "class LastUpdateOrderedDict(OrderedDict):\n",
    "    def __setitem__(self, key, value):\n",
    "        super().__setitem__(key, value)\n",
    "        self.move_to_end(key)\n",
    "\n",
    "last_update_dict = LastUpdateOrderedDict()\n",
    "last_update_dict['one'] = 1\n",
    "last_update_dict['two'] = 2\n",
    "print(last_update_dict)\n",
    "last_update_dict['one'] = \"Changed\"\n",
    "print(last_update_dict)"
   ]
  },
  {
   "cell_type": "markdown",
   "metadata": {},
   "source": [
    "# Multiple Inheritance"
   ]
  },
  {
   "cell_type": "markdown",
   "metadata": {},
   "source": [
    "`if you think you need multiple \n",
    "inheritance, you're probably wrong, but if you know you need it, \n",
    "you might be right.`\n"
   ]
  },
  {
   "cell_type": "markdown",
   "metadata": {},
   "source": [
    "`if a class has two\n",
    "superclasses, how does Python decide which attribute to use when we call\n",
    "super().attr, but both superclasses have an attribute with that name?`"
   ]
  }
 ],
 "metadata": {
  "kernelspec": {
   "display_name": "base",
   "language": "python",
   "name": "python3"
  },
  "language_info": {
   "codemirror_mode": {
    "name": "ipython",
    "version": 3
   },
   "file_extension": ".py",
   "mimetype": "text/x-python",
   "name": "python",
   "nbconvert_exporter": "python",
   "pygments_lexer": "ipython3",
   "version": "3.12.7"
  }
 },
 "nbformat": 4,
 "nbformat_minor": 2
}
