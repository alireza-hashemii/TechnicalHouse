{
 "cells": [
  {
   "cell_type": "markdown",
   "metadata": {},
   "source": [
    "### String Methods or in More Technical Term, **Callable Attributes**\n"
   ]
  },
  {
   "cell_type": "markdown",
   "metadata": {},
   "source": [
    "###### 1 - upper()"
   ]
  },
  {
   "cell_type": "code",
   "execution_count": null,
   "metadata": {},
   "outputs": [],
   "source": [
    "sample_educational_str = \"\"\" \n",
    "                            welcome to this course where \n",
    "                            we're learning many useful stuff \n",
    "                        \"\"\".upper()\n",
    "print(sample_educational_str)"
   ]
  },
  {
   "cell_type": "markdown",
   "metadata": {},
   "source": [
    "###### 2 - lower()"
   ]
  },
  {
   "cell_type": "code",
   "execution_count": null,
   "metadata": {},
   "outputs": [],
   "source": [
    "sample_educational_str = \"\"\" \n",
    "                            welcome to this course where \n",
    "                            we're learning many useful stuff \n",
    "                        \"\"\".lower()\n",
    "print(sample_educational_str)"
   ]
  },
  {
   "cell_type": "markdown",
   "metadata": {},
   "source": [
    "###### 3- capitalize() "
   ]
  },
  {
   "cell_type": "code",
   "execution_count": null,
   "metadata": {},
   "outputs": [],
   "source": [
    "sample_educational_str = \"\"\"we are doing a job here...\"\"\"\n",
    "\n",
    "capitalized_str_version = sample_educational_str.capitalize()\n",
    "print(capitalized_str_version)"
   ]
  },
  {
   "cell_type": "markdown",
   "metadata": {},
   "source": [
    "###### 4- center() "
   ]
  },
  {
   "cell_type": "code",
   "execution_count": null,
   "metadata": {},
   "outputs": [],
   "source": [
    "sample_educational_str = \"we are doing a job here...\".center(65, \"#\")\n",
    "\n",
    "\n",
    "print(sample_educational_str)"
   ]
  },
  {
   "cell_type": "markdown",
   "metadata": {},
   "source": [
    "###### 5- casefold() "
   ]
  },
  {
   "cell_type": "code",
   "execution_count": null,
   "metadata": {},
   "outputs": [],
   "source": [
    "sample_educational_str = \"that's a really STUNNING job, WAY TO GO\"\n",
    "\n",
    "caseless_version = sample_educational_str.casefold()\n",
    "print(caseless_version)"
   ]
  },
  {
   "cell_type": "markdown",
   "metadata": {},
   "source": [
    "###### 6- count() "
   ]
  },
  {
   "cell_type": "code",
   "execution_count": null,
   "metadata": {},
   "outputs": [],
   "source": [
    "sample_educational_str = \"\"\"neither me nor nobody else \n",
    "                        likes this youngster\"\"\".count(\"er\")\n",
    "\n",
    "print(sample_educational_str)"
   ]
  },
  {
   "cell_type": "markdown",
   "metadata": {},
   "source": [
    "###### 7- endswith()\n"
   ]
  },
  {
   "cell_type": "code",
   "execution_count": null,
   "metadata": {},
   "outputs": [],
   "source": [
    "sample_educational_str = \"you must have told me before\".endswith(\"Re\")\n",
    "\n",
    "print(sample_educational_str)"
   ]
  },
  {
   "cell_type": "markdown",
   "metadata": {},
   "source": [
    "###### 8- expandtabs()"
   ]
  },
  {
   "cell_type": "code",
   "execution_count": null,
   "metadata": {},
   "outputs": [],
   "source": [
    "sample_educational_str = \"you\\tbefore\"\n",
    "\n",
    "sample_str_copy = sample_educational_str.expandtabs(16)\n",
    "print(sample_str_copy)"
   ]
  },
  {
   "cell_type": "markdown",
   "metadata": {},
   "source": [
    "###### 9- find() "
   ]
  },
  {
   "cell_type": "code",
   "execution_count": null,
   "metadata": {},
   "outputs": [],
   "source": [
    "sample_educational_str = \"lorem ipsum is trying to get along\".find(\"m\",6,15)\n",
    "\n",
    "print(sample_educational_str)"
   ]
  },
  {
   "cell_type": "markdown",
   "metadata": {},
   "source": [
    "###### 10- encode()"
   ]
  },
  {
   "cell_type": "code",
   "execution_count": null,
   "metadata": {},
   "outputs": [],
   "source": [
    "sample_educational_str = \"ipsum is trying to get along\".encode('utf-8')\n",
    "\n",
    "print(sample_educational_str)"
   ]
  },
  {
   "cell_type": "markdown",
   "metadata": {},
   "source": [
    "###### 11- index()"
   ]
  },
  {
   "cell_type": "code",
   "execution_count": null,
   "metadata": {},
   "outputs": [],
   "source": [
    "sample_educational_str = \"lorem ipsum is trying to get along\".index('al')\n",
    "\n",
    "print(sample_educational_str)"
   ]
  },
  {
   "cell_type": "markdown",
   "metadata": {},
   "source": [
    "###### 12to22- is methods"
   ]
  },
  {
   "cell_type": "code",
   "execution_count": null,
   "metadata": {},
   "outputs": [],
   "source": [
    "sample_educational_str = \"lorem ipsum is trying to get along\"\n",
    "\n",
    "print(sample_educational_str.isalnum())\n",
    "print(sample_educational_str.isalpha())\n",
    "print(sample_educational_str.isascii())\n",
    "print(sample_educational_str.isdecimal())\n",
    "print(sample_educational_str.isidentifier())\n",
    "print(sample_educational_str.isnumeric())\n",
    "print(sample_educational_str.istitle())\n",
    "print(sample_educational_str.islower())\n",
    "print(sample_educational_str.isprintable())\n",
    "print(sample_educational_str.isspace())"
   ]
  },
  {
   "cell_type": "markdown",
   "metadata": {},
   "source": [
    "###### 23-join()"
   ]
  },
  {
   "cell_type": "code",
   "execution_count": null,
   "metadata": {},
   "outputs": [],
   "source": [
    "sample_educational_str = \"lorem ipsum is trying to get along\"\n",
    "joined_method = \"-\".join(sample_educational_str)\n",
    "print(joined_method)"
   ]
  },
  {
   "cell_type": "markdown",
   "metadata": {},
   "source": [
    "###### 24-25-26 strip() based methods"
   ]
  },
  {
   "cell_type": "code",
   "execution_count": null,
   "metadata": {},
   "outputs": [],
   "source": [
    "sample_educational_str = \"       bienvenidos a este curso      \".strip()\n",
    "sample_educational_str2 = \"       bienvenidos a este curso      \".lstrip()\n",
    "sample_educational_str3 = \"       bienvenidos a este curso      \".rstrip()\n",
    "\n",
    "print(len(sample_educational_str))\n",
    "print(len(sample_educational_str2))\n",
    "print(len(sample_educational_str3))"
   ]
  },
  {
   "cell_type": "markdown",
   "metadata": {},
   "source": [
    "###### 27-28 l-rjust() based methods"
   ]
  },
  {
   "cell_type": "code",
   "execution_count": null,
   "metadata": {},
   "outputs": [],
   "source": [
    "sample_educational_str2 = \" bienvenidos a este curso\".ljust(45)\n",
    "sample_educational_str3 = \"bienvenidos a este curso\".rjust(45)\n",
    "\n",
    "print(sample_educational_str2)\n",
    "print(sample_educational_str3)"
   ]
  },
  {
   "cell_type": "markdown",
   "metadata": {},
   "source": [
    "###### 29- rfind()"
   ]
  },
  {
   "cell_type": "code",
   "execution_count": null,
   "metadata": {},
   "outputs": [],
   "source": [
    "sample_educational_str = \"bienvenidos a este\".rfind(\"e\")\n",
    "\n",
    "print(sample_educational_str)"
   ]
  },
  {
   "cell_type": "markdown",
   "metadata": {},
   "source": [
    "###### 30- replace()"
   ]
  },
  {
   "cell_type": "code",
   "execution_count": null,
   "metadata": {},
   "outputs": [],
   "source": [
    "sample_educational_str = \" bienvenidos a este curso\".replace('e','A')\n",
    "\n",
    "print(sample_educational_str)"
   ]
  },
  {
   "cell_type": "markdown",
   "metadata": {},
   "source": [
    "###### 31- format()"
   ]
  },
  {
   "cell_type": "code",
   "execution_count": null,
   "metadata": {},
   "outputs": [],
   "source": [
    "my_name = \"Sepehr\"\n",
    "format_version = \"Hello my name is {}\".format(my_name)\n",
    "\n",
    "print(format_version)"
   ]
  },
  {
   "cell_type": "markdown",
   "metadata": {},
   "source": [
    "###### 32- swapcase()"
   ]
  },
  {
   "cell_type": "code",
   "execution_count": null,
   "metadata": {},
   "outputs": [],
   "source": [
    "sample_educational_str2 = \" bienvenidos a este curso\".swapcase()\n",
    "\n",
    "print(sample_educational_str)"
   ]
  },
  {
   "cell_type": "code",
   "execution_count": null,
   "metadata": {},
   "outputs": [],
   "source": []
  }
 ],
 "metadata": {
  "kernelspec": {
   "display_name": "base",
   "language": "python",
   "name": "python3"
  },
  "language_info": {
   "codemirror_mode": {
    "name": "ipython",
    "version": 3
   },
   "file_extension": ".py",
   "mimetype": "text/x-python",
   "name": "python",
   "nbconvert_exporter": "python",
   "pygments_lexer": "ipython3",
   "version": "3.12.7"
  }
 },
 "nbformat": 4,
 "nbformat_minor": 2
}
