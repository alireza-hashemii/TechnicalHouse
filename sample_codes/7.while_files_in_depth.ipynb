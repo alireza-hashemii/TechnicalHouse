{
 "cells": [
  {
   "cell_type": "markdown",
   "metadata": {},
   "source": [
    "# While Loop"
   ]
  },
  {
   "cell_type": "code",
   "execution_count": null,
   "metadata": {},
   "outputs": [],
   "source": [
    "# print numbers from 14 to 25\n",
    "\n",
    "x = 14\n",
    "while x <= 25:\n",
    "    print(x)\n",
    "    x += 1"
   ]
  },
  {
   "cell_type": "code",
   "execution_count": null,
   "metadata": {},
   "outputs": [],
   "source": [
    "# print numbers from 100 to 10\n",
    "\n",
    "x = 100\n",
    "while x != 10:\n",
    "    print(x)\n",
    "    x -= 1"
   ]
  },
  {
   "cell_type": "code",
   "execution_count": null,
   "metadata": {},
   "outputs": [],
   "source": [
    "# prints consonants before the first vowel\n",
    "\n",
    "vs_list = ['a', 'e', 'i','o', 'u']\n",
    "x = input(\": \")\n",
    "n = 0\n",
    "\n",
    "while x[n] not in vs_list:\n",
    "    print(x[n])\n",
    "    n += 1"
   ]
  },
  {
   "cell_type": "code",
   "execution_count": null,
   "metadata": {},
   "outputs": [],
   "source": [
    "# recieves input until exit \n",
    "\n",
    "predefined = ''\n",
    "while predefined != 'exit':\n",
    "    new_order = input(\"Enter anything: \")\n",
    "    predefined = new_order"
   ]
  },
  {
   "cell_type": "code",
   "execution_count": null,
   "metadata": {},
   "outputs": [],
   "source": [
    "# fibonacci series\n",
    "\n",
    "n = int(input(\"Enter the number of terms in the Fibonacci sequence: \"))\n",
    "a, b = 0, 1\n",
    "count = 0\n",
    "\n",
    "while count < n:\n",
    "    print(a, end=' ')\n",
    "    a, b = b, a + b  \n",
    "    count += 1"
   ]
  },
  {
   "cell_type": "code",
   "execution_count": null,
   "metadata": {},
   "outputs": [],
   "source": [
    "# goes on until it reaches filter_ - bug\n",
    "\n",
    "filter_ = input(\"Until which character must we print the squence: \")\n",
    "text = input(\"Text: \")\n",
    "n = 1\n",
    "\n",
    "while text != filter_ and text != 0:\n",
    "    text = input(f\"Text number {n}: \")\n",
    "    n += 1"
   ]
  },
  {
   "cell_type": "code",
   "execution_count": null,
   "metadata": {},
   "outputs": [],
   "source": [
    "# goes on until it recieves an odd number\n",
    "\n",
    "x = 0\n",
    "while x % 2 == 0:\n",
    "    x = int(input(\": \"))"
   ]
  },
  {
   "cell_type": "code",
   "execution_count": null,
   "metadata": {},
   "outputs": [],
   "source": [
    "import pyqrcode\n",
    "import png\n",
    "from pyqrcode import QRCode\n",
    "\n",
    "# Text which is to be converted to QR code\n",
    "s = input(\"Enter text to convert: \")\n",
    "\n",
    "# Name of QR code png file\n",
    "n = input(\"Enter image name to save: \")\n",
    "\n",
    "# Adding extension as .pnf\n",
    "filename = n + \".png\"\n",
    "\n",
    "# Creating QR code\n",
    "url = pyqrcode.create(s)\n",
    "\n",
    "# Saving QR code as  a png file\n",
    "url.show()\n",
    "url.png(filename, scale=6)"
   ]
  },
  {
   "cell_type": "markdown",
   "metadata": {},
   "source": [
    "#  Files"
   ]
  },
  {
   "cell_type": "code",
   "execution_count": 25,
   "metadata": {},
   "outputs": [
    {
     "name": "stdout",
     "output_type": "stream",
     "text": [
      "done\n"
     ]
    }
   ],
   "source": [
    "name = \"alireza\"\n",
    "file = open(\"names.txt\", 'w')\n",
    "\n",
    "file.write(name)\n",
    "print('done')"
   ]
  },
  {
   "cell_type": "code",
   "execution_count": 26,
   "metadata": {},
   "outputs": [],
   "source": [
    "collection = ['a', 'b', 'c', 'd']\n",
    "for entity in collection:\n",
    "    file.write(entity)"
   ]
  }
 ],
 "metadata": {
  "kernelspec": {
   "display_name": "base",
   "language": "python",
   "name": "python3"
  },
  "language_info": {
   "codemirror_mode": {
    "name": "ipython",
    "version": 3
   },
   "file_extension": ".py",
   "mimetype": "text/x-python",
   "name": "python",
   "nbconvert_exporter": "python",
   "pygments_lexer": "ipython3",
   "version": "3.12.7"
  }
 },
 "nbformat": 4,
 "nbformat_minor": 2
}
