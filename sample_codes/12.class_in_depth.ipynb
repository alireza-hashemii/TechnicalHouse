{
 "cells": [
  {
   "cell_type": "markdown",
   "metadata": {
    "vscode": {
     "languageId": "plaintext"
    }
   },
   "source": [
    "# An Introduction to OOP"
   ]
  },
  {
   "cell_type": "code",
   "execution_count": null,
   "metadata": {},
   "outputs": [],
   "source": [
    "# The simplest case\n",
    "\n",
    "class Student:\n",
    "    pass\n",
    "\n",
    "std_1 = Student()\n",
    "std_2 = Student()\n",
    "\n",
    "std_1.name = 'mohammad'\n",
    "std_1.age = 18\n",
    "std_2.name = 'sepehr'\n",
    "\n",
    "print(std_1.name)\n",
    "print(std_2.name)\n",
    "print(std_2.age)"
   ]
  },
  {
   "cell_type": "markdown",
   "metadata": {},
   "source": [
    "initializer, instance attr, __dict__, __name__"
   ]
  },
  {
   "cell_type": "code",
   "execution_count": null,
   "metadata": {},
   "outputs": [],
   "source": [
    "# initializer \n",
    "\n",
    "# 1\n",
    "class Person:\n",
    "    def __init__(self, Name:str, Age:int):\n",
    "        self.name = Name\n",
    "        self.age = Age\n",
    "\n",
    "per_1 = Person('alireza', 14)\n",
    "\n",
    "# 2\n",
    "for attr in per_1.__dict__.keys():\n",
    "\n",
    "    attr_value = getattr(per_1, attr)\n",
    "    print(f\"{attr}:\\t{attr_value}\")\n",
    "\n",
    "# 3 \n",
    "class_name = f\"The Class Name is: {Person.__name__}\"\n",
    "print(class_name)"
   ]
  },
  {
   "cell_type": "markdown",
   "metadata": {},
   "source": [
    "repr, str, instance method "
   ]
  },
  {
   "cell_type": "code",
   "execution_count": null,
   "metadata": {},
   "outputs": [],
   "source": [
    "# V1\n",
    "\n",
    "class Point:\n",
    "    \"\"\"\n",
    "    Point on a 2 dimensional space, \\n \n",
    "    point = Point(3, 4)\n",
    "    \"\"\"\n",
    "    def __init__(self, x:float, y:float) -> None:\n",
    "        self.x = x\n",
    "        self.y = y\n",
    "\n",
    "    def move(self, new_x:float, new_y:float) -> None:\n",
    "        self.x = new_x\n",
    "        self.y = new_y\n",
    "\n",
    "\n",
    "    def __str__(self) -> str:\n",
    "        return f\"({self.x}, {self.y})\"\n",
    "\n",
    "\n",
    "    def __repr__(self) -> str:\n",
    "        return f\"{self.__class__.__name__}({self.x}, {self.y})\"\n",
    "\n",
    "\n",
    "p1 = Point(3.5, 8)\n",
    "print(f'Before: {p1}')\n",
    "p1.move(8,9)\n",
    "print(f\"After: {p1}\")"
   ]
  },
  {
   "cell_type": "code",
   "execution_count": null,
   "metadata": {},
   "outputs": [],
   "source": [
    "class Vector:\n",
    "\n",
    "    def __init__(self, x, y):\n",
    "        self.x = float(x)\n",
    "        self.y = float(y)\n",
    "\n",
    "    def __iter__(self):\n",
    "        return (i for i in (self.x, self.y))\n",
    "    \n",
    "    def __repr__(self):\n",
    "        class_name = type(self).__name__\n",
    "        return '{}({}, {})'.format(class_name, *self)\n",
    "    \n",
    "    def __bool__(self):\n",
    "        bool_exp = [bool(x) for x in self]\n",
    "        return any(bool_exp)\n",
    "\n",
    "v = Vector(5, 4)\n",
    "print(repr(v))"
   ]
  },
  {
   "cell_type": "code",
   "execution_count": null,
   "metadata": {},
   "outputs": [],
   "source": [
    "# getter using propery decorator\n",
    "\n",
    "class Vector2:\n",
    "\n",
    "    def __init__(self, x, y):\n",
    "        self.x = float(x)\n",
    "        self.y = float(y)\n",
    "\n",
    "    @property\n",
    "    def x(self):\n",
    "        return self.__x\n",
    "    \n",
    "    @property\n",
    "    def y(self):\n",
    "        return self.__y\n",
    "\n",
    "    def __iter__(self):\n",
    "        return (i for i in (self.x, self.y))\n",
    "    \n",
    "    def __repr__(self):\n",
    "        class_name = type(self).__name__\n",
    "        return '{}({}, {})'.format(class_name, *self)\n",
    "    \n",
    "    def __bool__(self):\n",
    "        bool_exp = [bool(x) for x in self]\n",
    "        return any(bool_exp)\n",
    "\n",
    "v = Vector2(5, 4)\n",
    "print(repr(v))\n"
   ]
  }
 ],
 "metadata": {
  "kernelspec": {
   "display_name": "base",
   "language": "python",
   "name": "python3"
  },
  "language_info": {
   "codemirror_mode": {
    "name": "ipython",
    "version": 3
   },
   "file_extension": ".py",
   "mimetype": "text/x-python",
   "name": "python",
   "nbconvert_exporter": "python",
   "pygments_lexer": "ipython3",
   "version": "3.12.7"
  }
 },
 "nbformat": 4,
 "nbformat_minor": 2
}
