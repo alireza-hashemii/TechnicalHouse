{
 "cells": [
  {
   "cell_type": "markdown",
   "metadata": {
    "vscode": {
     "languageId": "plaintext"
    }
   },
   "source": [
    "# An Introduction to OOP"
   ]
  },
  {
   "cell_type": "code",
   "execution_count": null,
   "metadata": {},
   "outputs": [],
   "source": [
    "# The simplest case\n",
    "\n",
    "class Student:\n",
    "    pass\n",
    "\n",
    "std_1 = Student()\n",
    "std_2 = Student()\n",
    "\n",
    "std_1.name = 'mohammad'\n",
    "std_1.age = 18\n",
    "std_2.name = 'sepehr'\n",
    "\n",
    "print(std_1.name)\n",
    "print(std_2.name)\n",
    "print(std_2.age)"
   ]
  },
  {
   "cell_type": "markdown",
   "metadata": {},
   "source": [
    "initializer, instance attr, __dict__, __name__"
   ]
  },
  {
   "cell_type": "code",
   "execution_count": null,
   "metadata": {},
   "outputs": [],
   "source": [
    "# initializer \n",
    "\n",
    "# 1\n",
    "class Person:\n",
    "    def __init__(self, Name:str, Age:int):\n",
    "        self.name = Name\n",
    "        self.age = Age\n",
    "\n",
    "per_1 = Person('alireza', 14)\n",
    "\n",
    "# 2\n",
    "for attr in per_1.__dict__.keys():\n",
    "\n",
    "    attr_value = getattr(per_1, attr)\n",
    "    print(f\"{attr}:\\t{attr_value}\")\n",
    "\n",
    "# 3 \n",
    "class_name = f\"The Class Name is: {Person.__name__}\"\n",
    "print(class_name)"
   ]
  },
  {
   "cell_type": "markdown",
   "metadata": {},
   "source": [
    "repr, str, instance method "
   ]
  },
  {
   "cell_type": "code",
   "execution_count": null,
   "metadata": {},
   "outputs": [],
   "source": [
    "# V1\n",
    "\n",
    "class Point:\n",
    "    \"\"\"\n",
    "    Point on a 2 dimensional space, \\n \n",
    "    point = Point(3, 4)\n",
    "    \"\"\"\n",
    "    def __init__(self, x:float, y:float) -> None:\n",
    "        self.x = x\n",
    "        self.y = y\n",
    "\n",
    "    def move(self, new_x:float, new_y:float) -> None:\n",
    "        self.x = new_x\n",
    "        self.y = new_y\n",
    "\n",
    "\n",
    "    def __str__(self) -> str:\n",
    "        return f\"({self.x}, {self.y})\"\n",
    "\n",
    "\n",
    "    def __repr__(self) -> str:\n",
    "        return f\"{self.__class__.__name__}({self.x}, {self.y})\"\n",
    "\n",
    "\n",
    "p1 = Point(3.5, 8)\n",
    "print(f'Before: {p1}')\n",
    "p1.move(8,9)\n",
    "print(f\"After: {p1}\")"
   ]
  },
  {
   "cell_type": "code",
   "execution_count": null,
   "metadata": {},
   "outputs": [],
   "source": [
    "class Vector:\n",
    "\n",
    "    def __init__(self, x, y):\n",
    "        self.x = float(x)\n",
    "        self.y = float(y)\n",
    "\n",
    "    def __iter__(self):\n",
    "        return (i for i in (self.x, self.y))\n",
    "    \n",
    "    def __repr__(self):\n",
    "        class_name = type(self).__name__\n",
    "        return '{}({}, {})'.format(class_name, *self)\n",
    "    \n",
    "    def __bool__(self):\n",
    "        bool_exp = [bool(x) for x in self]\n",
    "        return any(bool_exp)\n",
    "\n",
    "v = Vector(5, 4)\n",
    "print(repr(v))"
   ]
  },
  {
   "cell_type": "markdown",
   "metadata": {},
   "source": [
    "# Encapsulation"
   ]
  },
  {
   "cell_type": "code",
   "execution_count": null,
   "metadata": {},
   "outputs": [],
   "source": [
    "# 1\n",
    "\n",
    "class Public:\n",
    "    def __init__(self):\n",
    "        self.name = \"John\"  # Public attribute\n",
    "\n",
    "    def display_name(self):\n",
    "        print(self.name)  # Public method\n",
    "\n",
    "obj = Public()\n",
    "obj.display_name()  # Accessible\n",
    "print(obj.name)  # Accessible"
   ]
  },
  {
   "cell_type": "code",
   "execution_count": null,
   "metadata": {},
   "outputs": [],
   "source": [
    "class Protected:\n",
    "    def __init__(self):\n",
    "        self._age = 30  # Protected attribute\n",
    "\n",
    "class Subclass(Protected):\n",
    "    def display_age(self):\n",
    "        print(self._age)  # Accessible in subclass\n",
    "\n",
    "obj = Subclass()\n",
    "obj.display_age()\n"
   ]
  },
  {
   "cell_type": "code",
   "execution_count": null,
   "metadata": {},
   "outputs": [],
   "source": [
    "class Private:\n",
    "    def __init__(self):\n",
    "        self.__salary = 50000  # Private attribute\n",
    "\n",
    "    def salary(self):\n",
    "        return self.__salary  # Access through public method\n",
    "\n",
    "obj = Private()\n",
    "print(obj.salary())  # Works\n",
    "#print(obj.__salary)  # Raises AttributeError\n"
   ]
  },
  {
   "cell_type": "code",
   "execution_count": null,
   "metadata": {},
   "outputs": [],
   "source": [
    "# getter using propery decorator\n",
    "\n",
    "class Vector2:\n",
    "\n",
    "    def __init__(self, x, y):\n",
    "        self.x = float(x)\n",
    "        self.y = float(y)\n",
    "\n",
    "    @property\n",
    "    def x(self):\n",
    "        return self.__x\n",
    "    \n",
    "    @property\n",
    "    def y(self):\n",
    "        return self.__y\n",
    "\n",
    "    def __iter__(self):\n",
    "        return (i for i in (self.x, self.y))\n",
    "    \n",
    "    def __repr__(self):\n",
    "        class_name = type(self).__name__\n",
    "        return '{}({}, {})'.format(class_name, *self)\n",
    "    \n",
    "    def __bool__(self):\n",
    "        bool_exp = [bool(x) for x in self]\n",
    "        return any(bool_exp)\n",
    "\n",
    "v = Vector2(5, 4)\n",
    "print(repr(v))\n"
   ]
  },
  {
   "cell_type": "markdown",
   "metadata": {},
   "source": [
    "# Duck Typing"
   ]
  },
  {
   "cell_type": "code",
   "execution_count": 1,
   "metadata": {},
   "outputs": [],
   "source": [
    "class Duck:\n",
    "    def swim(self):\n",
    "        print(\"The duck is swimming\")\n",
    "\n",
    "    def fly(self):\n",
    "        print(\"The duck is flying\")\n",
    "\n",
    "class Swan:\n",
    "    def swim(self):\n",
    "        print(\"The swan is swimming\")\n",
    "\n",
    "    def fly(self):\n",
    "        print(\"The swan is flying\")\n",
    "\n",
    "class Albatross:\n",
    "    def swim(self):\n",
    "        print(\"The albatross is swimming\")\n",
    "\n",
    "    def fly(self):\n",
    "        print(\"The albatross is flying\")"
   ]
  },
  {
   "cell_type": "code",
   "execution_count": null,
   "metadata": {},
   "outputs": [],
   "source": [
    "birds = [Duck(), Swan(), Albatross()]\n",
    "\n",
    "for bird in birds:\n",
    "    bird.fly()\n",
    "    bird.swim()"
   ]
  },
  {
   "cell_type": "markdown",
   "metadata": {},
   "source": [
    "# CSV"
   ]
  },
  {
   "cell_type": "code",
   "execution_count": null,
   "metadata": {},
   "outputs": [],
   "source": [
    "import csv\n",
    "import json\n",
    "from itertools import batched  \n",
    "\n",
    "class TextReader:\n",
    "    def __init__(self, filename):\n",
    "        self.filename = filename\n",
    "\n",
    "    def read(self):\n",
    "        with open(self.filename, encoding=\"utf-8\") as file:\n",
    "            return [\n",
    "                {\n",
    "                    \"name\": batch[0].strip(),\n",
    "                    \"age\": batch[1].strip(),\n",
    "                    \"job\": batch[2].strip(),\n",
    "                }\n",
    "                for batch in batched(file.readlines(), 3)\n",
    "            ]\n",
    "\n",
    "\n",
    "\n",
    "class CSVReader:\n",
    "    def __init__(self, filename):\n",
    "        self.filename = filename\n",
    "\n",
    "    def read(self):\n",
    "        with open(self.filename, encoding=\"utf-8\", newline=\"\") as file:\n",
    "            return list(csv.DictReader(file))"
   ]
  },
  {
   "cell_type": "markdown",
   "metadata": {},
   "source": [
    "# Collections"
   ]
  },
  {
   "cell_type": "code",
   "execution_count": null,
   "metadata": {},
   "outputs": [],
   "source": [
    "# namedtuple\n",
    "import collections\n",
    "\n",
    "fields = ['x', 'y']\n",
    "Point = collections.namedtuple('Point', fields)\n",
    "\n",
    "p_1 = Point(4, 8)\n",
    "p_2 = Point(-3, 0)\n",
    "\n",
    "objs = [p_1, p_2]\n",
    "\n",
    "for item in objs:\n",
    "    print(item.x)"
   ]
  },
  {
   "cell_type": "code",
   "execution_count": null,
   "metadata": {},
   "outputs": [],
   "source": [
    "# collections.deque\n",
    "\n",
    "my_deq = collections.deque([3, 5, 7], 5)\n",
    "\n",
    "my_deq.appendleft(100)\n",
    "my_deq.append(9)\n",
    "my_deq.append('a')\n",
    "print(my_deq)"
   ]
  },
  {
   "cell_type": "code",
   "execution_count": null,
   "metadata": {},
   "outputs": [],
   "source": [
    "# chain map\n",
    "\n",
    "persian_alphabet = {\n",
    "    'a': 'ا',  \n",
    "    'b': 'ب',  \n",
    "    'c': 'پ',  \n",
    "    'd': 'د',  \n",
    "    'e': 'e',  \n",
    "    'f': 'ف',  \n",
    "    'g': 'گ',  \n",
    "    'h': 'ه',  \n",
    "    'i': 'ی',  # Persian for 'i'\n",
    "    'j': 'ژ',  # Persian for 'j'\n",
    "    'k': 'ک',  # Persian for 'k'\n",
    "    'l': 'ل',  # Persian for 'l'\n",
    "    'm': 'م',  # Persian for 'm'\n",
    "    'n': 'ن',  # Persian for 'n'\n",
    "    'o': 'و',  # Persian for 'o' (often represented as 'v' in Persian)\n",
    "    'p': 'پ',  # Persian for 'p'\n",
    "    'q': 'ق',  # Persian for 'q'\n",
    "    'r': 'ر',  # Persian for 'r'\n",
    "    's': 'س',  # Persian for 's'\n",
    "    't': 'ت',  # Persian for 't'\n",
    "    'u': 'و',  # Persian for 'u' (often represented as 'v' in Persian)\n",
    "    'v': 'و',  # Persian for 'v'\n",
    "    'w': 'و',  # Persian does not have a direct equivalent for 'w'\n",
    "    'x': 'x',  # Persian does not have a direct equivalent for 'x'\n",
    "    'y': 'ی',  # Persian for 'y'\n",
    "    'z': 'ز'   # Persian for 'z'\n",
    "}\n",
    "\n",
    "\n",
    "persian_numbers = {\n",
    "    0: '۰',  # Persian for 0\n",
    "    1: '۱',  # Persian for 1\n",
    "    2: '۲',  # Persian for 2\n",
    "    3: '۳',  # Persian for 3\n",
    "    4: '۴',  # Persian for 4\n",
    "    5: '۵',  # Persian for 5\n",
    "    6: '۶',  # Persian for 6\n",
    "    7: '۷',  # Persian for 7\n",
    "    8: '۸',  # Persian for 8\n",
    "    9: '۹'   # Persian for 9\n",
    "}\n",
    "\n",
    "chn = collections.ChainMap(persian_numbers, persian_alphabet)\n",
    "print(chn)"
   ]
  },
  {
   "cell_type": "code",
   "execution_count": null,
   "metadata": {},
   "outputs": [],
   "source": [
    "# A nice one\n",
    "import os \n",
    "import csv\n",
    "\n",
    "class TextAnalizer:\n",
    "    def __init__(self, path):\n",
    "        self.__path = path\n",
    "    \n",
    "    def read_content(self):\n",
    "        ext = os.path.splitext(self.__path)[-1]\n",
    "        \n",
    "\n",
    "        if ext.startswith('.'):\n",
    "            if ext == '.txt':\n",
    "                with open(self.__path, 'r') as txt_file:\n",
    "                    con = txt_file.read()\n",
    "                    return con\n",
    "            \n",
    "            if ext == '.csv':\n",
    "                with open(self.__path, encoding=\"utf-8\", newline=\"\") as file:\n",
    "                    return list(csv.DictReader(file))\n",
    "                \n",
    "    \n",
    "txt_analize = TextAnalizer('resources\\\\ts.txt')\n",
    "print(txt_analize.read_content())\n",
    "print(txt_analize.__dict__)"
   ]
  },
  {
   "cell_type": "code",
   "execution_count": null,
   "metadata": {},
   "outputs": [],
   "source": [
    "# collections.Counter\n",
    "\n",
    "txt = 'here we are trying to learn sth valuable'\n",
    "quantity = collections.Counter(txt)\n",
    "print(quantity)"
   ]
  }
 ],
 "metadata": {
  "kernelspec": {
   "display_name": "base",
   "language": "python",
   "name": "python3"
  },
  "language_info": {
   "codemirror_mode": {
    "name": "ipython",
    "version": 3
   },
   "file_extension": ".py",
   "mimetype": "text/x-python",
   "name": "python",
   "nbconvert_exporter": "python",
   "pygments_lexer": "ipython3",
   "version": "3.12.7"
  }
 },
 "nbformat": 4,
 "nbformat_minor": 2
}
