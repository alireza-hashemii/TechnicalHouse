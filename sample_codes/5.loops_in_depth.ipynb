{
 "cells": [
  {
   "cell_type": "markdown",
   "metadata": {},
   "source": [
    "## Set and it's methods"
   ]
  },
  {
   "cell_type": "code",
   "execution_count": null,
   "metadata": {},
   "outputs": [],
   "source": [
    "# set introduction\n",
    "\n",
    "my_set = set()\n",
    "my_set_random = {3, 6, 1}"
   ]
  },
  {
   "cell_type": "code",
   "execution_count": null,
   "metadata": {},
   "outputs": [],
   "source": [
    "A = {1, 4, 2, 6}\n",
    "B = {4, 6 , 7, 9}\n",
    "\n",
    "print(f'The Union of 2 sets is : {A.union(B)}')\n",
    "print(f\"The Union of 2 sets using operators is : {A | B}\")"
   ]
  },
  {
   "cell_type": "code",
   "execution_count": null,
   "metadata": {},
   "outputs": [],
   "source": [
    "A = {1,5,11,62}\n",
    "B = {5,6,23,45}\n",
    "\n",
    "print(f'The Union of 2 sets is : {A.intersection(B)}')\n",
    "print(f\"The Intersections of 2 sets using operators is : {A & B}\")"
   ]
  },
  {
   "cell_type": "code",
   "execution_count": null,
   "metadata": {},
   "outputs": [],
   "source": [
    "A = {1,5,11,62}\n",
    "B = {5,6,23,45}\n",
    "\n",
    "print(f\"The result of A - B is : {A - B}\")\n",
    "print(f\"The result of B - A is : {B - A}\")\n",
    "\n",
    "print(A.difference(B))\n",
    "print(B.difference(A))"
   ]
  },
  {
   "cell_type": "code",
   "execution_count": null,
   "metadata": {},
   "outputs": [],
   "source": [
    "A.difference_update([1, 11])\n",
    "print(A)"
   ]
  },
  {
   "cell_type": "code",
   "execution_count": null,
   "metadata": {},
   "outputs": [],
   "source": [
    "A.intersection_update({62, 13, 1})\n",
    "print(A)"
   ]
  },
  {
   "cell_type": "code",
   "execution_count": null,
   "metadata": {},
   "outputs": [],
   "source": [
    "A = {1, 5, 11, 62}\n",
    "B = {5, 6, 23, 45}\n",
    "\n",
    "print(A.symmetric_difference(B))\n",
    "\n",
    "\n",
    "A.symmetric_difference_update(B)\n",
    "print(f\"The symmetric inplace will be: {A}\")"
   ]
  },
  {
   "cell_type": "code",
   "execution_count": 14,
   "metadata": {},
   "outputs": [],
   "source": [
    "A_copy = A.copy()\n",
    "A.clear()"
   ]
  },
  {
   "cell_type": "code",
   "execution_count": null,
   "metadata": {},
   "outputs": [],
   "source": [
    "# is starting methods\n",
    "\n",
    "print(A_copy.isdisjoint(B))\n",
    "print(A_copy.issubset(B))\n",
    "print(A_copy.issuperset(B))"
   ]
  },
  {
   "cell_type": "code",
   "execution_count": null,
   "metadata": {},
   "outputs": [],
   "source": [
    "# add and remove items from a set\n",
    "\n",
    "A_copy.add(14)\n",
    "print(A_copy)\n",
    "\n",
    "\n",
    "A_copy.remove(14)\n",
    "print(A_copy)\n",
    "\n",
    "\n",
    "C = {22, 3, 5, 0}\n",
    "C.pop()\n",
    "C.pop()\n",
    "print(C)"
   ]
  },
  {
   "cell_type": "markdown",
   "metadata": {},
   "source": [
    "` test ` recieve an input then try to add it to a set if it is already there , let the user know by printing a sample text."
   ]
  },
  {
   "cell_type": "markdown",
   "metadata": {},
   "source": [
    "## How GC works?"
   ]
  },
  {
   "cell_type": "code",
   "execution_count": null,
   "metadata": {},
   "outputs": [],
   "source": [
    "import weakref\n",
    "\n",
    "\n",
    "\n",
    "def bye():\n",
    "    print(\"oh, separation is always dark\")\n",
    "\n",
    "\n",
    "\n",
    "a = {3, 5, 6}\n",
    "b = a \n",
    "ender = weakref.finalize(a, bye)\n",
    "del a \n",
    "b = 9\n",
    "\n",
    "print(ender.alive)"
   ]
  },
  {
   "cell_type": "code",
   "execution_count": null,
   "metadata": {},
   "outputs": [],
   "source": [
    "a = \"ABC\"\n",
    "b = \"ABC\"\n",
    "print(a is b)"
   ]
  },
  {
   "cell_type": "code",
   "execution_count": null,
   "metadata": {},
   "outputs": [],
   "source": [
    "tup_a = (4, 6)\n",
    "tup_b = (4, 6)\n",
    "\n",
    "print(tup_a is tup_b)"
   ]
  },
  {
   "cell_type": "code",
   "execution_count": null,
   "metadata": {},
   "outputs": [],
   "source": [
    "a = 14\n",
    "b = 14\n",
    "\n",
    "print(a is b)"
   ]
  },
  {
   "cell_type": "markdown",
   "metadata": {},
   "source": [
    "# For loop introduction"
   ]
  },
  {
   "cell_type": "code",
   "execution_count": null,
   "metadata": {},
   "outputs": [],
   "source": [
    "names_in_list = [\"amir\", \"mohammad\", \"sepehr\", \"sara\"]\n",
    "\n",
    "for name in names_in_list:\n",
    "    print(name)"
   ]
  },
  {
   "cell_type": "code",
   "execution_count": null,
   "metadata": {},
   "outputs": [],
   "source": [
    "names_in_list = [\"amir\", \"mohammad\", \"sepehr\", \"sara\", \"amir\"]\n",
    "\n",
    "for name in names_in_list:\n",
    "    index_item = names_in_list.index(name)\n",
    "    print(f\"first occurence of {name} is in position {index_item}\")"
   ]
  },
  {
   "cell_type": "code",
   "execution_count": null,
   "metadata": {},
   "outputs": [],
   "source": [
    "months = ['jan', 'feb', 'mar', 'apr', 'may', 'jun', 'jul', 'aug', 'sep', 'oct', 'nov', 'dec']\n",
    "\n",
    "user_birth_month = int(input(\"Which month have you born in?\"))\n",
    "\n",
    "for month_index, month in enumerate(months, start=1):\n",
    "    if month_index == user_birth_month:\n",
    "        print(f\"Now I understand you were born in {month.upper()}\")        \n"
   ]
  },
  {
   "cell_type": "code",
   "execution_count": null,
   "metadata": {},
   "outputs": [],
   "source": [
    "import random \n",
    "\n",
    "list_nums = [random.randint(0,1000) for i in range(25)]\n",
    "\n",
    "biggest = None\n",
    "for num in list_nums:\n",
    "    if biggest is None or biggest < num  :\n",
    "        biggest = num\n",
    "\n",
    "print(f\"The biggest number is {biggest}\")"
   ]
  },
  {
   "cell_type": "code",
   "execution_count": 57,
   "metadata": {},
   "outputs": [],
   "source": [
    "num_set = {random.randint(0,100) for i in range(15)}\n",
    "\n",
    "for i in range(3):\n",
    "    number = int(input(\": \"))\n",
    "    if number in num_set:\n",
    "        print(\"already have this one\")"
   ]
  },
  {
   "cell_type": "code",
   "execution_count": null,
   "metadata": {},
   "outputs": [],
   "source": [
    "# triangle shape\n",
    "a = 1\n",
    "b = 10\n",
    "\n",
    "for row in range(10):\n",
    "    for column in range(1):\n",
    "        print(\" \" * b, end=\"\")\n",
    "        print('* ' * a)\n",
    "    a += 1\n",
    "    b -= 1\n"
   ]
  },
  {
   "cell_type": "code",
   "execution_count": null,
   "metadata": {},
   "outputs": [],
   "source": [
    "# rectangle shape\n",
    "a = 15\n",
    "for i in range(10):\n",
    "    for j in range(1):\n",
    "        print(\"* \" * a)"
   ]
  },
  {
   "cell_type": "markdown",
   "metadata": {},
   "source": [
    "` TEST ` : `NOW IT'S YOUR TURN `: print a triangle \n",
    "*\n",
    "**\n",
    "***\n"
   ]
  },
  {
   "cell_type": "code",
   "execution_count": null,
   "metadata": {},
   "outputs": [],
   "source": [
    "# rhombus shape\n",
    "\n",
    "a = 5\n",
    "b = 1\n",
    "for i in range(5):\n",
    "    for j in range(1):\n",
    "        print(\" \" * a, end='')\n",
    "        print('* ' * b)\n",
    "    a -= 1\n",
    "    b += 1\n",
    "\n",
    "m = 1\n",
    "n = 4\n",
    "for i in range(4):\n",
    "    for j in range(1):\n",
    "        print(\" \" * m, end='')\n",
    "        print(' *' * n)\n",
    "    m += 1\n",
    "    n -= 1"
   ]
  },
  {
   "cell_type": "code",
   "execution_count": null,
   "metadata": {},
   "outputs": [],
   "source": [
    "# number game "
   ]
  }
 ],
 "metadata": {
  "kernelspec": {
   "display_name": "base",
   "language": "python",
   "name": "python3"
  },
  "language_info": {
   "codemirror_mode": {
    "name": "ipython",
    "version": 3
   },
   "file_extension": ".py",
   "mimetype": "text/x-python",
   "name": "python",
   "nbconvert_exporter": "python",
   "pygments_lexer": "ipython3",
   "version": "3.12.7"
  }
 },
 "nbformat": 4,
 "nbformat_minor": 2
}
