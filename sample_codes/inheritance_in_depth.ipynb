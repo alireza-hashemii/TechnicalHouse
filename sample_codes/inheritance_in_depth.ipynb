{
 "cells": [
  {
   "cell_type": "markdown",
   "metadata": {},
   "source": [
    "## Basic Inheritance and Extending List"
   ]
  },
  {
   "cell_type": "code",
   "execution_count": 135,
   "metadata": {},
   "outputs": [],
   "source": [
    "\n",
    "class ContactList(list):\n",
    "    def search(self, name:str):\n",
    "        search_result: list['Contact'] = []\n",
    "\n",
    "        for contact in self:\n",
    "            if name in contact.name:\n",
    "                search_result.append(contact)\n",
    "        return search_result"
   ]
  },
  {
   "cell_type": "code",
   "execution_count": 136,
   "metadata": {},
   "outputs": [],
   "source": [
    "class Contact:\n",
    "    contact_list = ContactList()\n",
    "    \n",
    "    def __init__(self, name:str, email:str) -> None:\n",
    "        self.name = name\n",
    "        self.email = email\n",
    "\n",
    "        if not self in Contact.contact_list:\n",
    "            Contact.contact_list.append(self)\n",
    "\n",
    "    def __repr__(self):\n",
    "        return f\"{self.__class__.__name__}({self.name}, {self.email})\"\n",
    "    "
   ]
  },
  {
   "cell_type": "code",
   "execution_count": 137,
   "metadata": {},
   "outputs": [],
   "source": [
    "# some contacts may be supliers\n",
    "\n",
    "class Supplier(Contact):\n",
    "    def order(self, order) -> None:\n",
    "        print(f\"If this were a real system we would send {order} to the user: {self.name}\")"
   ]
  },
  {
   "cell_type": "code",
   "execution_count": null,
   "metadata": {},
   "outputs": [],
   "source": [
    "cnt = Contact(\"alireza hashemiiii\", \"00@gmail.com\")\n",
    "Contact.contact_list.search(\"alireza\")"
   ]
  },
  {
   "cell_type": "markdown",
   "metadata": {},
   "source": [
    "## Extending Dictionary"
   ]
  },
  {
   "cell_type": "code",
   "execution_count": null,
   "metadata": {},
   "outputs": [],
   "source": [
    "class LongNameDict(dict[str, int]):\n",
    "\n",
    "    def longest_key(self):\n",
    "        \"\"\"In effect, max(self, key=len), but less obscure\"\"\"\n",
    "        longest = None\n",
    "\n",
    "        for key in self:\n",
    "            if longest is None or len(key) > len(longest):\n",
    "                longest = key\n",
    "        return longest"
   ]
  },
  {
   "cell_type": "code",
   "execution_count": null,
   "metadata": {},
   "outputs": [
    {
     "data": {
      "text/plain": [
       "'sepideh'"
      ]
     },
     "execution_count": 148,
     "metadata": {},
     "output_type": "execute_result"
    }
   ],
   "source": [
    "dict_long = LongNameDict({'ali':3 , 'amir':14, \"sepideh\":15})\n",
    "dict_long.longest_key()"
   ]
  },
  {
   "cell_type": "markdown",
   "metadata": {},
   "source": [
    "## Overriding and Super"
   ]
  },
  {
   "cell_type": "markdown",
   "metadata": {},
   "source": [
    "## Overriding"
   ]
  },
  {
   "cell_type": "code",
   "execution_count": null,
   "metadata": {},
   "outputs": [],
   "source": [
    "class Friend(Contact):\n",
    "    def __init__(self, name:str, email:str, phone_number:str):\n",
    "        self.name = name\n",
    "        self.email = email\n",
    "        self.phone_number = phone_number\n"
   ]
  },
  {
   "cell_type": "markdown",
   "metadata": {},
   "source": [
    "##### problems of the code above are: \n",
    "Any method can be overridden, not just __init__(). Before we go on, however, we\n",
    "need to address some problems in this example. Our Contact and Friend classes\n",
    "have duplicate code to set up the name and email properties; this can make code\n",
    "maintenance complicated, as we have to update the code in two or more places.\n",
    "More alarmingly, our Friend class is neglecting to add itself to the all_contacts list\n",
    "we have created on the Contact class. Finally, looking forward, if we add a feature to\n",
    "the Contact class, we'd like it to also be part of the Friend class."
   ]
  },
  {
   "cell_type": "markdown",
   "metadata": {},
   "source": [
    "### Better Alternative"
   ]
  },
  {
   "cell_type": "code",
   "execution_count": null,
   "metadata": {},
   "outputs": [],
   "source": [
    "class Friend(Contact):\n",
    "    def __init__(self, name: str, email: str, phone: str) -> None:\n",
    "        super().__init__(name, email)\n",
    "        self.phone = phone\n",
    "\n",
    "    def __repr__(self):\n",
    "        return f\"{self.__class__.__name__}({self.name}, {self.email} , {self.phone})\"\n",
    "\n",
    "contact_close = Friend(\"saman\", \"saman_abc@gmail.com\", '3523243')\n",
    "print(contact_close)"
   ]
  },
  {
   "cell_type": "markdown",
   "metadata": {},
   "source": [
    "What Mixin Is?"
   ]
  },
  {
   "cell_type": "code",
   "execution_count": 157,
   "metadata": {},
   "outputs": [],
   "source": [
    "class Emailable():\n",
    "    email: str\n",
    "    \n",
    "class MailSender(Emailable):\n",
    "    def send_mail(self, message: str) -> None:\n",
    "        print(f\"Sending mail to {self.email=}\")\n",
    "        # Add e-mail logic here"
   ]
  },
  {
   "cell_type": "code",
   "execution_count": null,
   "metadata": {},
   "outputs": [],
   "source": [
    "class EmailableContact(Contact, MailSender):\n",
    "    pass"
   ]
  },
  {
   "cell_type": "markdown",
   "metadata": {},
   "source": [
    "## The Diamond Problem"
   ]
  }
 ],
 "metadata": {
  "kernelspec": {
   "display_name": "base",
   "language": "python",
   "name": "python3"
  },
  "language_info": {
   "codemirror_mode": {
    "name": "ipython",
    "version": 3
   },
   "file_extension": ".py",
   "mimetype": "text/x-python",
   "name": "python",
   "nbconvert_exporter": "python",
   "pygments_lexer": "ipython3",
   "version": "3.12.3"
  }
 },
 "nbformat": 4,
 "nbformat_minor": 2
}
