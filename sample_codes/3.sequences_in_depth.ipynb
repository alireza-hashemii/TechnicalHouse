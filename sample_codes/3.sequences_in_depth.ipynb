{
 "cells": [
  {
   "cell_type": "markdown",
   "metadata": {},
   "source": [
    "## Sequences in Python - Flat Vs Container"
   ]
  },
  {
   "cell_type": "code",
   "execution_count": null,
   "metadata": {},
   "outputs": [],
   "source": [
    "method1 = list()\n",
    "method2 = []"
   ]
  },
  {
   "cell_type": "markdown",
   "metadata": {},
   "source": [
    "In Python, both numbers_list = list() and numbers_list = [] are valid ways to create an empty list. However, there are some differences in terms of performance and convention:\n",
    "\n",
    "    Performance:\n",
    "        numbers_list = []: This is generally faster because it directly creates an empty list using the list literal syntax. It’s a more efficient operation as it doesn’t involve a function call.\n",
    "        numbers_list = list(): This creates an empty list by calling the list() constructor. While this is perfectly valid, it is slightly less efficient than using the list literal.\n",
    "\n",
    "    Convention:\n",
    "        The use of numbers_list = [] is more common in Python code. It is concise and immediately conveys the intention to create an empty list.\n",
    "        numbers_list = list() may be used in situations where you want to emphasize that you are explicitly creating a list, but this is less common in practice.\n",
    "\n",
    "Conclusion:\n",
    "\n",
    "For performance and readability, it is generally better to use numbers_list = []. It is the preferred and more idiomatic way to create an empty list in Python."
   ]
  },
  {
   "cell_type": "code",
   "execution_count": null,
   "metadata": {},
   "outputs": [],
   "source": [
    "from collections import abc\n",
    "numbers_list = [2, 3, 4, 5]\n",
    "\n",
    "print(numbers_list)\n",
    "print(isinstance(numbers_list, abc.MutableSequence))"
   ]
  },
  {
   "cell_type": "code",
   "execution_count": null,
   "metadata": {},
   "outputs": [],
   "source": [
    "list_x = [2, 4, 8]\n",
    "list_y = [2, 4, 8]\n",
    "\n",
    "print(list_x is list_y)\n",
    "print(list_y[1] is list_x[1])"
   ]
  },
  {
   "cell_type": "markdown",
   "metadata": {},
   "source": [
    "## List Methods"
   ]
  },
  {
   "cell_type": "markdown",
   "metadata": {},
   "source": [
    "###### 1 - append()"
   ]
  },
  {
   "cell_type": "code",
   "execution_count": null,
   "metadata": {},
   "outputs": [],
   "source": [
    "import time\n",
    "\n",
    "databse_names = [\"amirhosein\", \"sara\", \"sepehr\"]\n",
    "new_user = input(\"Enter your name please: \".title())\n",
    "\n",
    "print(\"A new name is being added...\")\n",
    "time.sleep(2)\n",
    "databse_names.append(new_user)\n",
    "print(\"Operation terminated succusfully\")"
   ]
  },
  {
   "cell_type": "markdown",
   "metadata": {},
   "source": [
    "###### 2 - insert()"
   ]
  },
  {
   "cell_type": "code",
   "execution_count": null,
   "metadata": {},
   "outputs": [],
   "source": [
    "databse_names = [\"amirhosein\", \"sara\", \"sepehr\"]\n",
    "new_user = input(\"Enter your name please: \".title())\n",
    "\n",
    "\n",
    "databse_names.insert(3, new_user)\n",
    "print(databse_names)"
   ]
  },
  {
   "cell_type": "markdown",
   "metadata": {},
   "source": [
    "###### 3 - remove()"
   ]
  },
  {
   "cell_type": "code",
   "execution_count": null,
   "metadata": {},
   "outputs": [],
   "source": [
    "import time\n",
    "\n",
    "databse_names = [\"amirhosein\", \"sara\", \"sepehr\"]\n",
    "removable_name = input('Which name do you want to remove?')\n",
    "\n",
    "databse_names.remove(removable_name)\n",
    "\n",
    "print(f\"Name {removable_name} is now removed from list. current list is -> {databse_names}\")"
   ]
  },
  {
   "cell_type": "markdown",
   "metadata": {},
   "source": [
    "###### 4 - pop()"
   ]
  },
  {
   "cell_type": "code",
   "execution_count": null,
   "metadata": {},
   "outputs": [],
   "source": [
    "databse_names = [\"amirhosein\", \"sara\", \"sepehr\"]\n",
    "rm_name_pop = input(\"Enter your name please: \".title())\n",
    "\n",
    "removed_name = databse_names.pop(databse_names.index(rm_name_pop))\n",
    "print(f\"This Name Is Removed -> {removed_name}\")"
   ]
  },
  {
   "cell_type": "markdown",
   "metadata": {},
   "source": [
    "###### 5 - reverse()"
   ]
  },
  {
   "cell_type": "code",
   "execution_count": null,
   "metadata": {},
   "outputs": [],
   "source": [
    "databse_names = [\"amirhosein\", \"sara\", \"sepehr\",\"amir\", \"yasaman\", 'koosha']\n",
    "\n",
    "databse_names.reverse()\n",
    "print(databse_names)"
   ]
  },
  {
   "cell_type": "markdown",
   "metadata": {},
   "source": [
    "###### 6 - sort() - Timsort Algorithm"
   ]
  },
  {
   "cell_type": "markdown",
   "metadata": {},
   "source": [
    "###### 6 - sort() - Timsort Algorithm"
   ]
  },
  {
   "cell_type": "code",
   "execution_count": null,
   "metadata": {},
   "outputs": [],
   "source": [
    "databse_codes = [3,12,6,7,4,2,5,42]\n",
    "\n",
    "# ascending\n",
    "databse_names.sort()\n",
    "print(f\"List is sorted in ascending order -> {databse_names}\")\n",
    "\n",
    "# descending\n",
    "databse_names.sort(reverse=True)\n",
    "print(f\"List is sorted in descending order -> {databse_names}\")\n",
    "\n",
    "# custom order\n",
    "names_collection = ['amir', 'sara', \"sepehr\", \"mohammad\"]\n",
    "databse_names.sort(key=len)\n",
    "print(f\"List is sorted in customed order -> {databse_names}\")"
   ]
  },
  {
   "cell_type": "markdown",
   "metadata": {},
   "source": [
    "###### 7 - index()"
   ]
  },
  {
   "cell_type": "code",
   "execution_count": null,
   "metadata": {},
   "outputs": [],
   "source": [
    "names_collection = ['amir', 'sara', \"sepehr\", \"mohammad\"]\n",
    "\n",
    "search_name = input(\"Which Name do you want to search for? \")\n",
    "search_index = names_collection.index(search_name)\n",
    "\n",
    "print(f\"Name: {search_name} is found in position {search_index}\")"
   ]
  },
  {
   "cell_type": "markdown",
   "metadata": {},
   "source": [
    "###### 8 - clear()"
   ]
  },
  {
   "cell_type": "code",
   "execution_count": null,
   "metadata": {},
   "outputs": [],
   "source": [
    "M = 30\n",
    "listt = [23 , 11 , M]\n",
    "listt.clear()\n",
    "print(M)\n",
    "print(listt)"
   ]
  },
  {
   "cell_type": "markdown",
   "metadata": {},
   "source": [
    "###### 9 - count()"
   ]
  },
  {
   "cell_type": "code",
   "execution_count": null,
   "metadata": {},
   "outputs": [],
   "source": [
    "initials = [\"am\", \"sb\", 'eb', 'ar', 'at', 'pd', 'le', 'ev']\n",
    "count_result = initials.count('eb')\n",
    "print(count_result)"
   ]
  },
  {
   "cell_type": "markdown",
   "metadata": {},
   "source": [
    "###### 10 - extend()"
   ]
  },
  {
   "cell_type": "code",
   "execution_count": null,
   "metadata": {},
   "outputs": [],
   "source": [
    "list_one = ['ali', 'sara']\n",
    "list_two = ['yasaman' , 'hamid']\n",
    "\n",
    "list_one.extend(list_two)\n",
    "list_two.extend(\"salam\")\n",
    "\n",
    "print(list_two)\n",
    "print(list_one)"
   ]
  },
  {
   "cell_type": "markdown",
   "metadata": {},
   "source": [
    "#### list.sort() Vs sorted(list)"
   ]
  },
  {
   "cell_type": "code",
   "execution_count": null,
   "metadata": {},
   "outputs": [],
   "source": [
    "state_initials = [\"KA\", \"TX\", 'CA', \"WA\", \"VI\", \"AK\", \"ID\", \"UT\"]\n",
    "\n",
    "print(state_initials.sort())\n",
    "print(sorted(state_initials))"
   ]
  },
  {
   "cell_type": "markdown",
   "metadata": {},
   "source": [
    "#### The Three Musketeers - Map - reduce - Filter"
   ]
  },
  {
   "cell_type": "code",
   "execution_count": null,
   "metadata": {},
   "outputs": [],
   "source": [
    "# What is Lambda function? \n",
    "lambda_function = lambda x: x ** 2 \n",
    "\n",
    "lambda_function(12)"
   ]
  },
  {
   "cell_type": "code",
   "execution_count": null,
   "metadata": {},
   "outputs": [],
   "source": [
    "# Map\n",
    "\n",
    "numbers = [i for i in range(50)]\n",
    "result = list(map(lambda x: x ** 2, numbers))\n",
    "print(result)"
   ]
  },
  {
   "cell_type": "code",
   "execution_count": null,
   "metadata": {},
   "outputs": [],
   "source": [
    "# Filter\n",
    "\n",
    "numbers = [i for i in range(50)]\n",
    "\n",
    "result = list(filter(lambda x: x % 2 == 0 , numbers))\n",
    "print(result)"
   ]
  },
  {
   "cell_type": "code",
   "execution_count": null,
   "metadata": {},
   "outputs": [],
   "source": [
    "# Reduce\n",
    "from functools import reduce\n",
    "\n",
    "numbers = [2, 3, 4]\n",
    "result = reduce(lambda x, y: x+y, numbers)\n",
    "print(result)"
   ]
  },
  {
   "cell_type": "markdown",
   "metadata": {},
   "source": [
    "### Tuple : a brief introduction"
   ]
  },
  {
   "cell_type": "code",
   "execution_count": null,
   "metadata": {},
   "outputs": [],
   "source": [
    "first_tup = (3, 5, 7)\n",
    "second_tup = (3, 5, 7)\n",
    "\n",
    "# inner part of container sequences are alike. they keep refrences to the objects\n",
    "print(first_tup[0] is second_tup[0])\n",
    "\n",
    "# tuples have just 2 methods\n",
    "print(first_tup.count(13))\n",
    "print(first_tup.index(3))"
   ]
  },
  {
   "cell_type": "markdown",
   "metadata": {},
   "source": [
    "### Value Unpacking - * Expression"
   ]
  },
  {
   "cell_type": "code",
   "execution_count": null,
   "metadata": {},
   "outputs": [],
   "source": [
    "n1 , n2 , n3 = [(\"ali\", 15), ('mohammad', 16), ('sara', 19)]\n",
    "\n",
    "print(f'N1 is equal to : {n1}')\n",
    "print(f'N2 is equal to : {n2}')\n",
    "print(f'N3 is equal to : {n3}')"
   ]
  },
  {
   "cell_type": "code",
   "execution_count": null,
   "metadata": {},
   "outputs": [],
   "source": [
    "n1 , *rest  = [(\"ali\", 15), ('saeid', 16), ('yasaman', 14), ('mahsa', 18), ('amir',13)] \n",
    "first , *excess , last  = [(\"ali\", 15), ('saeid', 16), ('yasaman', 14), ('mahsa', 18), ('amir',13)] "
   ]
  }
 ],
 "metadata": {
  "kernelspec": {
   "display_name": "base",
   "language": "python",
   "name": "python3"
  },
  "language_info": {
   "codemirror_mode": {
    "name": "ipython",
    "version": 3
   },
   "file_extension": ".py",
   "mimetype": "text/x-python",
   "name": "python",
   "nbconvert_exporter": "python",
   "pygments_lexer": "ipython3",
   "version": "3.12.3"
  }
 },
 "nbformat": 4,
 "nbformat_minor": 2
}
