{
 "cells": [
  {
   "cell_type": "markdown",
   "metadata": {},
   "source": [
    "# An Introduction To `Functions` "
   ]
  },
  {
   "cell_type": "code",
   "execution_count": null,
   "metadata": {},
   "outputs": [],
   "source": [
    "def function_name():\n",
    "    pass"
   ]
  },
  {
   "cell_type": "markdown",
   "metadata": {},
   "source": [
    "`4 primary and also primitive function types`\n",
    "1. without input, without output\n",
    "2. with input, without output\n",
    "1. without input, with output\n",
    "1. wit input, with output"
   ]
  },
  {
   "cell_type": "markdown",
   "metadata": {},
   "source": [
    "# 1"
   ]
  },
  {
   "cell_type": "code",
   "execution_count": null,
   "metadata": {},
   "outputs": [],
   "source": [
    "def say_hello():\n",
    "    print(\"Hola amigo\")\n",
    "\n",
    "say_hello()"
   ]
  },
  {
   "cell_type": "code",
   "execution_count": null,
   "metadata": {},
   "outputs": [],
   "source": [
    "def print_10_nums():\n",
    "    for i in range(20, -1):\n",
    "        print(i)\n",
    "\n",
    "# why it isn't still working?\n",
    "print_10_nums()"
   ]
  },
  {
   "cell_type": "code",
   "execution_count": null,
   "metadata": {},
   "outputs": [],
   "source": [
    "# same name for both var and function? Not a good idea.\n",
    "\n",
    "x = 14\n",
    "\n",
    "def x():\n",
    "    print(x)\n",
    "\n",
    "x()"
   ]
  },
  {
   "cell_type": "markdown",
   "metadata": {},
   "source": [
    "# 2"
   ]
  },
  {
   "cell_type": "code",
   "execution_count": null,
   "metadata": {},
   "outputs": [],
   "source": [
    "def greeting(user_name):\n",
    "    print(f'hello {user_name}')\n",
    "   \n",
    "\n",
    "greeting(\"sepehr\")"
   ]
  },
  {
   "cell_type": "code",
   "execution_count": null,
   "metadata": {},
   "outputs": [],
   "source": [
    "def number_acc(number):\n",
    "    res = 0\n",
    "    for num in range(0, number+1, 1):\n",
    "        res += num\n",
    "    print(res)\n",
    "\n",
    "number_acc(65)"
   ]
  },
  {
   "cell_type": "markdown",
   "metadata": {},
   "source": [
    "# 3"
   ]
  },
  {
   "cell_type": "code",
   "execution_count": null,
   "metadata": {},
   "outputs": [],
   "source": [
    "import datetime\n",
    "\n",
    "def is_odd_day():\n",
    "    current_day = datetime.datetime.now().ctime()[:3]\n",
    "    current_day_2 = datetime.datetime.now().strftime('%a')\n",
    "    \n",
    "    match current_day:\n",
    "        case 'Mon':\n",
    "            return True\n",
    "        case 'Sat':\n",
    "            return True\n",
    "        case 'Wed':\n",
    "            return True\n",
    "        case _:\n",
    "            return False\n",
    "\n",
    "is_odd_day()"
   ]
  },
  {
   "cell_type": "code",
   "execution_count": null,
   "metadata": {},
   "outputs": [],
   "source": [
    "def first_year_half():\n",
    "    current_month = datetime.datetime.now().month\n",
    "    if current_month > 6:\n",
    "        return 'Second Half'\n",
    "    else:\n",
    "        return \"First Half\"\n",
    "\n",
    "first_year_half()"
   ]
  },
  {
   "cell_type": "code",
   "execution_count": null,
   "metadata": {},
   "outputs": [],
   "source": [
    "def persian_year_half():\n",
    "    data = datetime.datetime.now().date()\n",
    "    data_template = [data.year, data.month , data.day]\n",
    "\n",
    "    current_month = datetime.date(*data_template)\n",
    "    start_second = datetime.date(2023, 9, 22)\n",
    "    end_second = datetime.date(2023, 3, 20)\n",
    "    if end_second < current_month < start_second:\n",
    "        print('First Half')\n",
    "    else:\n",
    "        print('Second Half')\n",
    "\n",
    "\n",
    "persian_year_half()"
   ]
  },
  {
   "cell_type": "markdown",
   "metadata": {},
   "source": [
    "# 4"
   ]
  },
  {
   "cell_type": "code",
   "execution_count": null,
   "metadata": {},
   "outputs": [],
   "source": [
    "# previous excercise take 2\n",
    "\n",
    "def persian_year_half_v2(user_date):\n",
    "    data_template = [user_date.year, user_date.month , user_date.day]\n",
    "\n",
    "    current_month = datetime.date(*data_template)\n",
    "    start_second = datetime.date(2023, 9, 22)\n",
    "    end_second = datetime.date(2023, 3, 20)\n",
    "    if end_second < current_month < start_second:\n",
    "        print('First Half')\n",
    "    else:\n",
    "        print('Second Half')\n",
    "\n",
    "\n",
    "date_obj = datetime.date(2023, 3, 19)\n",
    "persian_year_half(date_obj)"
   ]
  },
  {
   "cell_type": "code",
   "execution_count": null,
   "metadata": {},
   "outputs": [],
   "source": [
    "# what is it called in English? Dooz? thanks lord I'm still funny :)\n",
    "import random\n",
    "\n",
    "def dooz():\n",
    "    # making the board\n",
    "    board = [['-', '-', '-'],['-', '-', '-'],['-', '-', '-']]\n",
    "\n",
    "    # choosing the cursor mark\n",
    "    my_cursor = \"X\"\n",
    "    user_cursor = input('What is your cursor?').strip()\n",
    "    print(f'My cursor is {my_cursor}')\n",
    "\n",
    "    while my_cursor == user_cursor:\n",
    "        user_cursor = input('What is your cursor?')\n",
    "    \n",
    "    \n",
    "    for i in range(9):\n",
    "        if i % 2 == 0:\n",
    "            while True:\n",
    "                your_turn = input(\"Write 2 numbers, first corresponds to row and second to column: \")\n",
    "                row, column = your_turn\n",
    "                row = int(row) - 1\n",
    "                column = int(column) - 1\n",
    "                if board[row][column] == '-':\n",
    "                    board[row][column] = user_cursor\n",
    "                    break\n",
    "                else: \n",
    "                    print(\"already selected\")\n",
    "        else:\n",
    "            while True:\n",
    "                row, column = [random.randint(0,2) for i in range(2)]\n",
    "                if board[row][column] == '-':\n",
    "                    board[row][column] = my_cursor\n",
    "                    print(\"I used my turn, now it's yours\")\n",
    "                    break\n",
    "                else:\n",
    "                    pass\n",
    "        for i in board:\n",
    "            print(i, end='\\n')\n",
    "dooz()"
   ]
  }
 ],
 "metadata": {
  "kernelspec": {
   "display_name": "base",
   "language": "python",
   "name": "python3"
  },
  "language_info": {
   "codemirror_mode": {
    "name": "ipython",
    "version": 3
   },
   "file_extension": ".py",
   "mimetype": "text/x-python",
   "name": "python",
   "nbconvert_exporter": "python",
   "pygments_lexer": "ipython3",
   "version": "3.12.7"
  }
 },
 "nbformat": 4,
 "nbformat_minor": 2
}
