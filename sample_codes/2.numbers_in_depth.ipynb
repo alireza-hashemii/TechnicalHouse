{
 "cells": [
  {
   "cell_type": "markdown",
   "metadata": {},
   "source": [
    "## Python Operations"
   ]
  },
  {
   "cell_type": "markdown",
   "metadata": {},
   "source": [
    "### Arithmetic Operations - Unary VS Binary"
   ]
  },
  {
   "cell_type": "code",
   "execution_count": null,
   "metadata": {},
   "outputs": [],
   "source": [
    "# 1 - unary plus and plus operations\n",
    "number_1 = 10\n",
    "number_2 = +number_1\n",
    "print(f'Number 2 Is Now: {number_2}')\n",
    "\n",
    "\n",
    "x = 7 + (-14)\n",
    "print(x)"
   ]
  },
  {
   "cell_type": "code",
   "execution_count": null,
   "metadata": {},
   "outputs": [],
   "source": [
    "# 2 - unary minus and minus operation\n",
    "number_1 = 10\n",
    "number_2 = -(number_1)\n",
    "print(f'Number 2 Is Now: {number_2}')\n",
    "\n",
    "\n",
    "x = 34 - 11\n",
    "print(f'X Is Now: {x}')"
   ]
  },
  {
   "cell_type": "code",
   "execution_count": null,
   "metadata": {},
   "outputs": [],
   "source": [
    "# 3 - Multipication Operation\n",
    "\n",
    "x = 25\n",
    "y = 4\n",
    "print(x * y)"
   ]
  },
  {
   "cell_type": "code",
   "execution_count": null,
   "metadata": {},
   "outputs": [],
   "source": [
    "# 4 - Division and floor division operations\n",
    "x = 10\n",
    "y = 20\n",
    "\n",
    "print(f\" The simple division would give us: {x / y}\")\n",
    "print(f\" The floor division would give us: {x // y}\")"
   ]
  },
  {
   "cell_type": "code",
   "execution_count": null,
   "metadata": {},
   "outputs": [],
   "source": [
    "# 5- Modulus Operator \n",
    "x = 13\n",
    "y = 3\n",
    "print(13 % 3)"
   ]
  },
  {
   "cell_type": "code",
   "execution_count": null,
   "metadata": {},
   "outputs": [],
   "source": [
    "# 6- Power(exponent) Operation\n",
    "\n",
    "x = 14\n",
    "y = int(input(\"Enter a sample number: \"))\n",
    "print(f\"The result of exponent is {x ** y}\")"
   ]
  },
  {
   "cell_type": "code",
   "execution_count": null,
   "metadata": {},
   "outputs": [],
   "source": [
    "print(2 ** 2 ** 3)"
   ]
  },
  {
   "cell_type": "markdown",
   "metadata": {},
   "source": [
    "### Comparison Operations"
   ]
  },
  {
   "cell_type": "code",
   "execution_count": null,
   "metadata": {},
   "outputs": [],
   "source": [
    "# 7 - > < => <=  == (Relational Operators)\n",
    "x = 11\n",
    "y = 9.5\n",
    "z = 11\n",
    "\n",
    "print(x == y)\n",
    "print(x > z)\n",
    "print(y <= x)\n",
    "print(x != y)\n"
   ]
  },
  {
   "cell_type": "markdown",
   "metadata": {},
   "source": [
    "## Logical Operators"
   ]
  },
  {
   "cell_type": "code",
   "execution_count": null,
   "metadata": {},
   "outputs": [],
   "source": [
    "# 8 - and - or - not Operations\n",
    "x = 10\n",
    "y = 20\n",
    "z = 25\n",
    "\n",
    "print(x > y and z < x)\n",
    "print(y > x or z < x)\n",
    "print(not y > x or not x < z)\n",
    "print(not x < z and z > y)\n",
    "print(z == z and y < z)"
   ]
  },
  {
   "cell_type": "markdown",
   "metadata": {},
   "source": [
    "## Bitwise Operators"
   ]
  },
  {
   "cell_type": "code",
   "execution_count": null,
   "metadata": {},
   "outputs": [],
   "source": [
    "# 9 - bitwise and - or - xor - not operators\n",
    "x = 10\n",
    "y = 5\n",
    "\n",
    "bin(x & y)"
   ]
  },
  {
   "cell_type": "code",
   "execution_count": null,
   "metadata": {},
   "outputs": [],
   "source": [
    "# 10 \n",
    "x = 10 \n",
    "y = 5\n",
    "\n",
    "v  = int(bin(x)[2:])\n",
    "print(v == ~v)"
   ]
  },
  {
   "cell_type": "code",
   "execution_count": null,
   "metadata": {},
   "outputs": [],
   "source": [
    "# 11 - XOR operaiton \n",
    "bin10 = bin(6)\n",
    "bin8  = bin(4)\n",
    "\n",
    "\n",
    "bin(bin10 ^ bin8)"
   ]
  },
  {
   "cell_type": "markdown",
   "metadata": {},
   "source": [
    "## Identity Operators"
   ]
  },
  {
   "cell_type": "code",
   "execution_count": null,
   "metadata": {},
   "outputs": [],
   "source": [
    "# 12 - is VS ==\n",
    "\n",
    "sample_str = \"hello\"\n",
    "f = \"hello\"\n",
    "f2 = \"hello \"\n",
    "\n",
    "print(id(sample_str))\n",
    "print(id(f))\n",
    "print(id(f2))\n",
    "print(sample_str == f and sample_str is f)"
   ]
  },
  {
   "cell_type": "markdown",
   "metadata": {},
   "source": [
    "## Expressions and Constant Expressions\n"
   ]
  },
  {
   "cell_type": "code",
   "execution_count": null,
   "metadata": {},
   "outputs": [],
   "source": [
    "# 13 - Expressions\n",
    "x = 15\n",
    "res = x + 11\n",
    "print(res)"
   ]
  },
  {
   "cell_type": "code",
   "execution_count": null,
   "metadata": {},
   "outputs": [],
   "source": [
    "# 14\n",
    "res = 11 + 14\n",
    "print(res)\n"
   ]
  },
  {
   "cell_type": "markdown",
   "metadata": {},
   "source": [
    "### Expression Vs Statement"
   ]
  }
 ],
 "metadata": {
  "kernelspec": {
   "display_name": "base",
   "language": "python",
   "name": "python3"
  },
  "language_info": {
   "codemirror_mode": {
    "name": "ipython",
    "version": 3
   },
   "file_extension": ".py",
   "mimetype": "text/x-python",
   "name": "python",
   "nbconvert_exporter": "python",
   "pygments_lexer": "ipython3",
   "version": "3.12.3"
  }
 },
 "nbformat": 4,
 "nbformat_minor": 2
}
