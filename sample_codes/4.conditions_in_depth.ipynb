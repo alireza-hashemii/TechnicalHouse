{
 "cells": [
  {
   "cell_type": "markdown",
   "metadata": {},
   "source": [
    "### An introduction to conditions "
   ]
  },
  {
   "cell_type": "code",
   "execution_count": null,
   "metadata": {},
   "outputs": [],
   "source": [
    "full_name = input(\"Enter your full name sir: \")\n",
    "\n",
    "if  \" \" in full_name:\n",
    "    first_name , last_name = full_name.split(' ')\n",
    "    print(\"Got the info. thank you\")\n",
    "else:\n",
    "    print(\"Not provided last name\")"
   ]
  },
  {
   "cell_type": "code",
   "execution_count": null,
   "metadata": {},
   "outputs": [],
   "source": [
    "visitors = []\n",
    "new_visitor_age = float(input(\"Enter your age sir: \"))\n",
    "\n",
    "if new_visitor_age >= 18:\n",
    "    print(\"You are allowed to come in... Welcome!\")\n",
    "    visitors.append(new_visitor_age)\n",
    "\n",
    "elif 18 > new_visitor_age > 16:\n",
    "    print('Drop by next year buddy')\n",
    "\n",
    "else:\n",
    "    print(\"You should be doing other things\")"
   ]
  },
  {
   "cell_type": "code",
   "execution_count": null,
   "metadata": {},
   "outputs": [],
   "source": [
    "userpass = input(\"Enter a password and we are here to check how strong it is: \")\n",
    "punctuations = ['?', '@', '!', '/', \",\" , \".\", \"$\", \"&\"]\n",
    "point = 0\n",
    "\n",
    "\n",
    "punc_checker = list(map(lambda x: x in userpass , punctuations))\n",
    "\n",
    "\n",
    "if any(punc_checker):\n",
    "    point += 1 \n",
    "\n",
    "if userpass.isascii() and len(userpass) > 4:\n",
    "    point += 1\n",
    "\n",
    "print(f\"Point of this password is {point} out of 2\")"
   ]
  },
  {
   "cell_type": "code",
   "execution_count": null,
   "metadata": {},
   "outputs": [],
   "source": [
    "text = input(\"Write whatever text you want: \")\n",
    "numbers = [str(i) for i in range(0, 11)]\n",
    "\n",
    "helping_func = list(filter(lambda x: x in text, numbers))\n",
    "\n",
    "print(f\"found numbers {helping_func} in your text.\")"
   ]
  },
  {
   "cell_type": "code",
   "execution_count": null,
   "metadata": {},
   "outputs": [],
   "source": [
    "guess_number = int(input(\"Guess a number from 1 to 10: \"))\n",
    "number = 5\n",
    "\n",
    "if not number == guess_number:\n",
    "    print(\"WRONG!!!\")"
   ]
  },
  {
   "cell_type": "code",
   "execution_count": null,
   "metadata": {},
   "outputs": [],
   "source": [
    "sample_number = int(input(\"Enter a number: \"))\n",
    "\n",
    "if number % 2 == 0:\n",
    "    print(\"An Even\")\n",
    "    \n",
    "elif number % 2 != 0:\n",
    "    print(\"An Odd\")"
   ]
  },
  {
   "cell_type": "code",
   "execution_count": null,
   "metadata": {},
   "outputs": [],
   "source": [
    "d = ['a', 'b', 'c' ,'d', 'e', 'f', 'g', 'h', 'i', 'j', 'k']\n",
    "f = [i for i in range(11)]\n",
    "\n",
    "\n",
    "zipped_version = zip(d, f)\n",
    "\n",
    "implement_func = list(filter(lambda x: x[1] > 4, zipped_version))\n",
    "print(implement_func)"
   ]
  },
  {
   "cell_type": "code",
   "execution_count": null,
   "metadata": {},
   "outputs": [],
   "source": [
    "calling_number = '+' + input(\"Give us your phone number sir: \")\n",
    "\n",
    "\n",
    "if calling_number[0:3] == '+98':\n",
    "    print(\"I got that. you are calling from Iran\")\n",
    "\n",
    "elif calling_number[0:2] == \"+1\":\n",
    "    print(\"you are calling from the place where dreams come true\")\n",
    "\n",
    "else:\n",
    "    print(\"Neither Iran nor the US\")"
   ]
  },
  {
   "cell_type": "markdown",
   "metadata": {},
   "source": [
    "# Datetime"
   ]
  },
  {
   "cell_type": "code",
   "execution_count": null,
   "metadata": {},
   "outputs": [],
   "source": [
    "import datetime\n",
    "\n",
    "current_time = datetime.datetime.now()\n",
    "print(f\"Current date and time is {current_time}\")"
   ]
  },
  {
   "cell_type": "code",
   "execution_count": null,
   "metadata": {},
   "outputs": [],
   "source": [
    "time = datetime.datetime.now()\n",
    "print(f\"date part is {time.date()}\")\n",
    "print(f\"date part is {time}\")\n",
    "\n",
    "\n",
    "print(time.time())\n",
    "print(f'Time passed from jesus birth: {time -  time.min}')"
   ]
  },
  {
   "cell_type": "code",
   "execution_count": null,
   "metadata": {},
   "outputs": [],
   "source": [
    "year = int(input(\"Y: \"))\n",
    "month = int(input(\"M: \"))\n",
    "day = int(input(\"D: \"))\n",
    "\n",
    "date_ = datetime.date(year, month, day)\n",
    "current_date_  = datetime.datetime.now().date()\n",
    "\n",
    "print(current_date_ - date_)"
   ]
  },
  {
   "cell_type": "code",
   "execution_count": null,
   "metadata": {},
   "outputs": [],
   "source": [
    "print(date_.isocalendar())\n",
    "print(date_.ctime())"
   ]
  },
  {
   "cell_type": "markdown",
   "metadata": {},
   "source": [
    "### time stamp to datetime object"
   ]
  },
  {
   "cell_type": "code",
   "execution_count": null,
   "metadata": {},
   "outputs": [],
   "source": [
    "from datetime import datetime\n",
    "\n",
    "timestamp = 1528797322\n",
    "date_time = datetime.fromtimestamp(timestamp)\n",
    "\n",
    "print(\"Date time object:\", date_time)\n",
    "\n",
    "d = date_time.strftime(\"%m/%d/%Y, %H:%M:%S\")\n",
    "print(\"Output 2:\", d)\t\n",
    "\n",
    "d = date_time.strftime(\"%d %b, %Y\")\n",
    "print(\"Output 3:\", d)\n",
    "\n",
    "d = date_time.strftime(\"%d %B, %Y\")\n",
    "print(\"Output 4:\", d)\n",
    "\n",
    "d = date_time.strftime(\"%I%p\")\n",
    "print(\"Output 5:\", d)"
   ]
  },
  {
   "cell_type": "markdown",
   "metadata": {},
   "source": [
    "https://www.programiz.com/python-programming/datetime/strftime"
   ]
  },
  {
   "cell_type": "markdown",
   "metadata": {},
   "source": [
    "### string to datetime object"
   ]
  },
  {
   "cell_type": "code",
   "execution_count": null,
   "metadata": {},
   "outputs": [],
   "source": [
    "from datetime import datetime\n",
    "\n",
    "date_string = \"21 June, 2018\"\n",
    "\n",
    "print(\"date_string =\", date_string)\n",
    "print(\"type of date_string =\", type(date_string))\n",
    "\n",
    "date_object = datetime.strptime(date_string, \"%d %B, %Y\")\n",
    "\n",
    "print(\"date_object =\", date_object)\n",
    "print(\"type of date_object =\", type(date_object))"
   ]
  },
  {
   "cell_type": "code",
   "execution_count": null,
   "metadata": {},
   "outputs": [],
   "source": [
    "number_timestamp = 19990948\n",
    "to_dt = datetime.datetime.fromtimestamp(number_timestamp)\n",
    "now = datetime.datetime.now()\n",
    "now_timesap = datetime.datetime.timestamp(now)\n",
    "\n",
    "x = now_timesap - number_timestamp \n",
    "dttt = datetime.datetime.fromtimestamp(x)\n",
    "formattt = dttt.strftime(\"%I%p - %m - %A\")\n",
    "print(formattt)"
   ]
  },
  {
   "cell_type": "code",
   "execution_count": null,
   "metadata": {},
   "outputs": [],
   "source": [
    "import datetime\n",
    "year = int(input(\"Y: \"))\n",
    "month = int(input(\"M: \"))\n",
    "day = int(input(\"D: \"))\n",
    "\n",
    "datetimee = datetime.datetime(year,month, day)\n",
    "to_week = datetimee.isocalendar().week\n",
    "print(to_week)"
   ]
  }
 ],
 "metadata": {
  "kernelspec": {
   "display_name": "base",
   "language": "python",
   "name": "python3"
  },
  "language_info": {
   "codemirror_mode": {
    "name": "ipython",
    "version": 3
   },
   "file_extension": ".py",
   "mimetype": "text/x-python",
   "name": "python",
   "nbconvert_exporter": "python",
   "pygments_lexer": "ipython3",
   "version": "3.12.3"
  }
 },
 "nbformat": 4,
 "nbformat_minor": 2
}
