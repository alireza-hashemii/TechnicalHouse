{
 "cells": [
  {
   "cell_type": "markdown",
   "metadata": {},
   "source": [
    "# Unicode Characters "
   ]
  },
  {
   "cell_type": "code",
   "execution_count": null,
   "metadata": {},
   "outputs": [],
   "source": [
    "# from character to ascii codes - ORD\n",
    "\n",
    "sample_str = 'this is just a test amigo?'\n",
    "\n",
    "for i in sample_str:\n",
    "    print(f\"This is a unicode character: {i} with ascii code of {ord(i)}\")"
   ]
  },
  {
   "cell_type": "code",
   "execution_count": null,
   "metadata": {},
   "outputs": [],
   "source": [
    "# from ascii codes to characters - CHR\n",
    "\n",
    "import random\n",
    "\n",
    "random_numbers = [random.randint(0,128) for number in range(15)]\n",
    "for number in random_numbers:\n",
    "    print(f\"This is number: {number} and corresponds to character: {chr(number)}\")"
   ]
  },
  {
   "cell_type": "code",
   "execution_count": null,
   "metadata": {},
   "outputs": [],
   "source": [
    "# is that a valid code for a character? \n",
    "\n",
    "text = input(\"Enter a text to see the corresponding codes: \")\n",
    "\n",
    "for char in text:\n",
    "    if char.isascii():\n",
    "        print(f\"This is simple, here is the code -> {ord(char)}\")\n",
    "        \n",
    "    else:\n",
    "        print(f\"I suppose '{char}' is a non-ascii character.\")\n"
   ]
  },
  {
   "cell_type": "code",
   "execution_count": null,
   "metadata": {},
   "outputs": [],
   "source": [
    "text = 'español es mi lingua favorita'\n",
    "\n",
    "encoded_text = text.encode(encoding='utf-8')\n",
    "print(f'Encoded version is -> {encoded_text}')\n",
    "print(f\"Decoded version is -> {encoded_text.decode(encoding='utf-8')}\")"
   ]
  },
  {
   "cell_type": "code",
   "execution_count": null,
   "metadata": {},
   "outputs": [],
   "source": [
    "# encryption, that's what we do\n",
    "\n",
    "username = input(\"Enter your username: \")\n",
    "newly_made = \"\"\n",
    "\n",
    "for char in username:\n",
    "    char_code = ord(char)\n",
    "    char_code += 5\n",
    "    newly_made += chr(char_code)\n",
    "\n",
    "print(f\"Encrypted Version is -> {newly_made}\")"
   ]
  },
  {
   "cell_type": "markdown",
   "metadata": {},
   "source": [
    "# An Introduction to Itertools"
   ]
  },
  {
   "cell_type": "code",
   "execution_count": null,
   "metadata": {},
   "outputs": [],
   "source": [
    "import itertools\n",
    "\n",
    "numbers = itertools.count(10, 5)\n",
    "\n",
    "for i in numbers:\n",
    "    print(i)"
   ]
  },
  {
   "cell_type": "code",
   "execution_count": null,
   "metadata": {},
   "outputs": [],
   "source": [
    "numbers = itertools.batched(['a', 'b', 'c', 'd', 'e', 'y'], 2)\n",
    "\n",
    "for i in numbers:\n",
    "    print(i)"
   ]
  },
  {
   "cell_type": "code",
   "execution_count": null,
   "metadata": {},
   "outputs": [
    {
     "name": "stdout",
     "output_type": "stream",
     "text": [
      "[1, 3, 6, 10, 15, 21]\n"
     ]
    }
   ],
   "source": [
    "numbers = list(itertools.accumulate([1,2,3,4,5,6]))\n",
    "print(numbers)"
   ]
  },
  {
   "cell_type": "code",
   "execution_count": null,
   "metadata": {},
   "outputs": [],
   "source": [
    "numbers = itertools.chain([1,2,3,4,5,6], 'hi amigo')\n",
    "\n",
    "for i in numbers:\n",
    "    print(i)"
   ]
  },
  {
   "cell_type": "code",
   "execution_count": null,
   "metadata": {},
   "outputs": [],
   "source": [
    "numbers = itertools.combinations([1,2,3], 2)\n",
    "\n",
    "for i in numbers:\n",
    "    print(i)"
   ]
  },
  {
   "cell_type": "code",
   "execution_count": null,
   "metadata": {},
   "outputs": [],
   "source": [
    "text = itertools.cycle('hi alireza welcome to the course')\n",
    "\n",
    "for i in text:\n",
    "    print(i)"
   ]
  },
  {
   "cell_type": "code",
   "execution_count": null,
   "metadata": {},
   "outputs": [],
   "source": [
    "numbers = itertools.permutations('sky', 2)\n",
    "\n",
    "for i in numbers:\n",
    "    print(i)"
   ]
  },
  {
   "cell_type": "markdown",
   "metadata": {},
   "source": [
    "` your turn: write a program that calculates the first 10 possible answers of the following equation. `"
   ]
  },
  {
   "cell_type": "markdown",
   "metadata": {},
   "source": [
    "` your turn: write a program that calculates te pure salary of an employee right after subtracting insurance and tax from it. tax is 3% and ins is 7.5% `"
   ]
  },
  {
   "cell_type": "markdown",
   "metadata": {},
   "source": [
    "` your turn: calculate if a number is palindromic number `"
   ]
  },
  {
   "cell_type": "markdown",
   "metadata": {},
   "source": [
    "` your turn: write a program that reads a value and decides if it's a prime number `"
   ]
  },
  {
   "cell_type": "markdown",
   "metadata": {},
   "source": [
    "` your turn: write a program that insert a value in a sorted list without breaking the order of elements. `"
   ]
  },
  {
   "cell_type": "markdown",
   "metadata": {},
   "source": [
    "` your turn: write a program that prints a histogram chart out of a numeric list `"
   ]
  },
  {
   "cell_type": "markdown",
   "metadata": {},
   "source": [
    "` your turn: recieve an input and calculate which character is the most used(repetetive) one `"
   ]
  },
  {
   "cell_type": "markdown",
   "metadata": {},
   "source": [
    "# Dictionary "
   ]
  },
  {
   "cell_type": "code",
   "execution_count": null,
   "metadata": {},
   "outputs": [],
   "source": [
    "dictionary = {\n",
    "    'name': 'nazanin',\n",
    "    'last_name': 'saedi',\n",
    "    'age': 14\n",
    "}\n",
    "print(dictionary)"
   ]
  },
  {
   "cell_type": "code",
   "execution_count": null,
   "metadata": {},
   "outputs": [],
   "source": [
    "# iterating over the keys of a dictionary\n",
    "\n",
    "k_number = 1\n",
    "for key in dictionary.keys():\n",
    "    print(f\"Key number {k_number} is {key}\")\n",
    "    k_number += 1"
   ]
  },
  {
   "cell_type": "code",
   "execution_count": null,
   "metadata": {},
   "outputs": [],
   "source": [
    "values = []\n",
    "for key, value in dictionary.items():\n",
    "    values.append(value)\n",
    "\n",
    "print(f\"Values are all added. -> {values}\")"
   ]
  },
  {
   "cell_type": "markdown",
   "metadata": {},
   "source": [
    "what len(mapping type) returns in python?\n",
    "1. numbers of keys    2. number of values   ` 3. numbers of items `   4. number of lines"
   ]
  },
  {
   "cell_type": "code",
   "execution_count": null,
   "metadata": {},
   "outputs": [],
   "source": [
    "# insert values in dictionary\n",
    "\n",
    "data_dict = {\n",
    "    'name': '',\n",
    "    'code': ''\n",
    "}\n",
    "\n",
    "user_name = input(\"Name: \")\n",
    "user_code = input(\"Code: \")\n",
    "\n",
    "data_dict['name'] = user_name\n",
    "data_dict['code'] = user_code"
   ]
  },
  {
   "cell_type": "markdown",
   "metadata": {},
   "source": [
    "# Key Lookup"
   ]
  },
  {
   "cell_type": "code",
   "execution_count": null,
   "metadata": {},
   "outputs": [],
   "source": [
    "stds_template = {\n",
    "    'code': 1323,\n",
    "    'addr': \"Tehran, district 21\"\n",
    "}\n",
    "\n",
    "# 1\n",
    "key_lookup_addr = stds_template['addr']\n",
    "print(f\"address is -> {key_lookup_addr}\")"
   ]
  },
  {
   "cell_type": "code",
   "execution_count": null,
   "metadata": {},
   "outputs": [],
   "source": [
    "# 2 \n",
    "key_lookup_addr = stds_template.get(\"addr\", \"Not Found\")\n",
    "print(key_lookup_addr)"
   ]
  },
  {
   "cell_type": "markdown",
   "metadata": {},
   "source": [
    "# setdefault - update - fromkeys "
   ]
  },
  {
   "cell_type": "code",
   "execution_count": null,
   "metadata": {},
   "outputs": [],
   "source": [
    "# update\n",
    "\n",
    "d = {\n",
    "    'a': 1,\n",
    "    'b': 2\n",
    "}\n",
    "\n",
    "g = {\n",
    "    't': 11\n",
    "}\n",
    "\n",
    "d.update([['e', 11],['r', 7]])\n",
    "print(d)"
   ]
  },
  {
   "cell_type": "code",
   "execution_count": null,
   "metadata": {},
   "outputs": [],
   "source": [
    "stds_template = {\n",
    "    'code': 1323,\n",
    "    'addr': \"Tehran, district 21\"\n",
    "}\n",
    "\n",
    "s = stds_template.fromkeys(['a', 'b', 'c'], 0)\n",
    "print(s)"
   ]
  },
  {
   "cell_type": "code",
   "execution_count": 4,
   "metadata": {},
   "outputs": [
    {
     "name": "stdout",
     "output_type": "stream",
     "text": [
      "None\n"
     ]
    }
   ],
   "source": [
    "stds_template = {\n",
    "    'code': 1323,\n",
    "    'addr': \"Tehran, district 21\"\n",
    "}\n",
    "\n",
    "s = stds_template.setdefault(\"zipcode\", None)\n",
    "print(s)"
   ]
  }
 ],
 "metadata": {
  "kernelspec": {
   "display_name": "base",
   "language": "python",
   "name": "python3"
  },
  "language_info": {
   "codemirror_mode": {
    "name": "ipython",
    "version": 3
   },
   "file_extension": ".py",
   "mimetype": "text/x-python",
   "name": "python",
   "nbconvert_exporter": "python",
   "pygments_lexer": "ipython3",
   "version": "3.12.7"
  }
 },
 "nbformat": 4,
 "nbformat_minor": 2
}
