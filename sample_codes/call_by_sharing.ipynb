{
 "cells": [
  {
   "cell_type": "markdown",
   "metadata": {},
   "source": [
    "### Python's default parameter passing mode  called, call by sharing"
   ]
  },
  {
   "cell_type": "code",
   "execution_count": 1,
   "metadata": {},
   "outputs": [
    {
     "name": "stdout",
     "output_type": "stream",
     "text": [
      "X's value will remain unchanged as 4 \n",
      "And function call returns 10\n"
     ]
    }
   ],
   "source": [
    "def merge(a, b):\n",
    "    a += b\n",
    "    return a\n",
    "\n",
    "x = 4\n",
    "y = 6\n",
    "function_call = merge(x, y)\n",
    "print(f\"X's value will remain unchanged as {x} \\nAnd function call returns {function_call}\")"
   ]
  },
  {
   "cell_type": "code",
   "execution_count": 3,
   "metadata": {},
   "outputs": [
    {
     "name": "stdout",
     "output_type": "stream",
     "text": [
      "X's value will not remain unchanged as x become [2, 4, 3, 7] \n",
      "And function call returns [2, 4, 3, 7]\n"
     ]
    }
   ],
   "source": [
    "x = [2 ,4]\n",
    "y = [3 , 7]\n",
    "\n",
    "function_call2 = merge(x , y)\n",
    "print(f\"X's value will not remain unchanged as x become {x} \\nAnd function call returns {function_call2}\")"
   ]
  },
  {
   "cell_type": "markdown",
   "metadata": {},
   "source": [
    "The only mode of parameter passing in Python is call by sharing. That is the same\n",
    "mode used in most object-oriented languages, including JavaScript, Ruby, and Java\n",
    "(this applies to Java reference types; primitive types use call by value). Call by sharing\n",
    "means that each formal parameter of the function gets a copy of each reference in the\n",
    "arguments. In other words, the parameters inside the function become aliases of the\n",
    "actual arguments.\n",
    "The result of this scheme is that a function may change any mutable object passed as\n",
    "a parameter, but it cannot change the identity of those objects"
   ]
  },
  {
   "cell_type": "markdown",
   "metadata": {},
   "source": [
    "## Mutable types as parameter default: *Bad Idea*"
   ]
  },
  {
   "cell_type": "code",
   "execution_count": null,
   "metadata": {},
   "outputs": [],
   "source": [
    "class Bus:\n",
    "    def __init__(self, passengers=[]):\n",
    "        self.passengers = passengers\n",
    "    \n",
    "    def pick(self, name):\n",
    "        self.passengers.append(name)\n",
    "\n",
    "    def remove(self, name):\n",
    "        self.passengers.remove(name)\n",
    "    \n",
    "\n",
    "Bus1 = Bus(['alics', 'louis', 'samanta'])\n",
    "Bus2 = Bus()\n",
    "Bus3 = Bus()\n",
    "Bus2.pick(\"carlos\")\n",
    "print(Bus3.passengers)"
   ]
  },
  {
   "cell_type": "markdown",
   "metadata": {},
   "source": [
    "### Defensive Programming"
   ]
  },
  {
   "cell_type": "code",
   "execution_count": null,
   "metadata": {},
   "outputs": [],
   "source": [
    "class Bus:\n",
    "    def __init__(self, passengers=None):\n",
    "        if passengers == None:\n",
    "            self.passengers = []\n",
    "        else:\n",
    "            self.passengers = list(passengers)\n",
    "    \n",
    "    def pick(self, name):\n",
    "        self.passengers.append(name)\n",
    "\n",
    "    def remove(self, name):\n",
    "        self.passengers.remove(name)"
   ]
  }
 ],
 "metadata": {
  "kernelspec": {
   "display_name": "base",
   "language": "python",
   "name": "python3"
  },
  "language_info": {
   "codemirror_mode": {
    "name": "ipython",
    "version": 3
   },
   "file_extension": ".py",
   "mimetype": "text/x-python",
   "name": "python",
   "nbconvert_exporter": "python",
   "pygments_lexer": "ipython3",
   "version": "3.12.3"
  }
 },
 "nbformat": 4,
 "nbformat_minor": 2
}
