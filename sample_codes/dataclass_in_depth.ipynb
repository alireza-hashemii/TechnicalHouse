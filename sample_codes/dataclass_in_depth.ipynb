{
 "cells": [
  {
   "cell_type": "markdown",
   "metadata": {},
   "source": [
    "# Dataclass "
   ]
  },
  {
   "cell_type": "markdown",
   "metadata": {},
   "source": [
    "data classes in python provide you a way to customize your class. In general, data class is a class which doesn't have particular functionality and it just has data. "
   ]
  },
  {
   "cell_type": "code",
   "execution_count": 25,
   "metadata": {},
   "outputs": [
    {
     "name": "stdout",
     "output_type": "stream",
     "text": [
      "Not a good __eq__ \n",
      "It incorrectly demonstrates this as -> False\n",
      "Not a good __repr__ \n",
      "since it prints:  <__main__.Coordinate object at 0x000001C79A199280>\n"
     ]
    }
   ],
   "source": [
    "# __eq__ and __repr__ inherited from object are not quite helpful.\n",
    "\n",
    "class Coordinate:\n",
    "  def __init__(self, lat, lon):\n",
    "    self.lat = lat\n",
    "    self.lon = lon\n",
    "\n",
    "\n",
    "moscow = Coordinate(34.67, 56.11)\n",
    "location = Coordinate(34.67, 56.11)\n",
    "\n",
    "print(f\"Not a good __eq__ \\nIt incorrectly demonstrates this as -> {moscow == location}\")\n",
    "print(f\"Not a good __repr__ \\nsince it prints:  {moscow}\")"
   ]
  },
  {
   "cell_type": "markdown",
   "metadata": {},
   "source": [
    "`There are 3 main possible options to use in order to create a data class`. the primaty purpose of data class is to inject\n",
    "methods and data attributes into the class under construction."
   ]
  },
  {
   "cell_type": "markdown",
   "metadata": {},
   "source": [
    "# 1. using collections.namedtuple"
   ]
  },
  {
   "cell_type": "code",
   "execution_count": 26,
   "metadata": {},
   "outputs": [
    {
     "name": "stdout",
     "output_type": "stream",
     "text": [
      "Correct __eq__ \n",
      "2 objects with exacly same arg values are evaluated as True\n"
     ]
    }
   ],
   "source": [
    "from collections import namedtuple\n",
    "\n",
    "Coordinate = namedtuple(\"Coordinate\", ['lon', 'lat'])\n",
    "\n",
    "moscow = Coordinate(34.67, 56.11)\n",
    "location = Coordinate(34.67, 56.11)\n",
    "\n",
    "result = f'Correct __eq__ \\n2 objects with exacly same arg values are evaluated as True'\n",
    "print(result)"
   ]
  },
  {
   "cell_type": "markdown",
   "metadata": {},
   "source": [
    "# 2. using typing.NamedTuple "
   ]
  },
  {
   "cell_type": "code",
   "execution_count": 27,
   "metadata": {},
   "outputs": [
    {
     "name": "stdout",
     "output_type": "stream",
     "text": [
      "Correct __eq__ \n",
      "2 objects with exacly same arg values are evaluated as True\n"
     ]
    }
   ],
   "source": [
    "from typing import NamedTuple\n",
    "\n",
    "Coordinate = NamedTuple(\"Coordinate\", [('lat', float), ('lon', float)])\n",
    "\n",
    "moscow = Coordinate(34.67, 56.11)\n",
    "location = Coordinate(34.67, 56.11)\n",
    "\n",
    "result = f'Correct __eq__ \\n2 objects with exacly same arg values are evaluated as {moscow == location}'\n",
    "print(result)"
   ]
  },
  {
   "cell_type": "code",
   "execution_count": null,
   "metadata": {},
   "outputs": [],
   "source": [
    "# a tricky one , Namedtuple is not the super class of coordinate here.\n",
    "import typing\n",
    "\n",
    "class Coordinate(NamedTuple):\n",
    "    lat: float\n",
    "    lon: float\n",
    " \n",
    "    def __str__(self):\n",
    "        ns = 'N' if self.lat >= 0 else 'S'\n",
    "        we = 'E' if self.lon >= 0 else 'W'\n",
    "        return f'{abs(self.lat):.1f}°{ns}, {abs(self.lon):.1f}°{we}'\n",
    "\n",
    "print(issubclass(Coordinate, tuple))\n",
    "print()"
   ]
  },
  {
   "cell_type": "markdown",
   "metadata": {},
   "source": [
    "The classes built by typing.NamedTuple and @dataclass have an\n",
    "__annotations__ attribute holding the type hints for the fields.\n",
    "However, reading from __annotations__ directly is not recom‐\n",
    "mended. Instead, the recommended best practice to get that\n",
    "information is to call inspect.get_annotations(MyClass) (added\n",
    "in Python 3.10) or typing.get_type_hints(MyClass) (Python 3.5\n",
    "to 3.9). That’s because those functions provide extra services, like\n",
    "resolving forward references in type hints."
   ]
  },
  {
   "cell_type": "code",
   "execution_count": null,
   "metadata": {},
   "outputs": [],
   "source": [
    "import inspect\n",
    "\n",
    "# bad practice\n",
    "print(Coordinate.__annotations__)\n",
    "\n",
    "\n",
    "# best practice\n",
    "annts = inspect.get_annotations(Coordinate)"
   ]
  },
  {
   "cell_type": "markdown",
   "metadata": {},
   "source": [
    "`Mutable instances`\n",
    "`A key difference between these class builders is that collections.namedtuple and\n",
    "typing.NamedTuple build tuple subclasses, therefore the instances are immutable.`\n",
    "By default, @dataclass produces mutable classes. But the decorator accepts a key‐\n",
    "word argument frozen—shown in Example 5-3. When frozen=True, the class will\n",
    "raise an exception if you try to assign a value to a field after the instance is initialized."
   ]
  },
  {
   "cell_type": "markdown",
   "metadata": {},
   "source": [
    "# namedtuple"
   ]
  },
  {
   "cell_type": "code",
   "execution_count": null,
   "metadata": {},
   "outputs": [],
   "source": [
    "City = namedtuple('City', 'name country population coordinates') \n",
    "city_data = {\n",
    "    'name': \"bankok\",\n",
    "    'country': \"thailand\",\n",
    "    'population': 30000000,\n",
    "    'coordinates': Coordinate(66.32, 25.11)\n",
    "}\n",
    "\n",
    "tokyo = City(**city_data)\n",
    "print(tokyo)\n",
    "print(tokyo.country)\n",
    "\n",
    "# _asdict\n",
    "print(tokyo._asdict())"
   ]
  },
  {
   "cell_type": "markdown",
   "metadata": {},
   "source": [
    "# 3. Data class"
   ]
  },
  {
   "cell_type": "code",
   "execution_count": null,
   "metadata": {},
   "outputs": [],
   "source": [
    "from dataclasses import dataclass\n",
    "# Wrong\n",
    "@dataclass\n",
    "class ClubMember:\n",
    "    name: str\n",
    "    guests: list = []"
   ]
  },
  {
   "cell_type": "code",
   "execution_count": null,
   "metadata": {},
   "outputs": [],
   "source": [
    "from dataclasses import dataclass, field\n",
    "# True\n",
    "@dataclass\n",
    "class ClubMember:\n",
    "    name: str\n",
    "    guests: list = field(default_factory=list)"
   ]
  }
 ],
 "metadata": {
  "kernelspec": {
   "display_name": "base",
   "language": "python",
   "name": "python3"
  },
  "language_info": {
   "codemirror_mode": {
    "name": "ipython",
    "version": 3
   },
   "file_extension": ".py",
   "mimetype": "text/x-python",
   "name": "python",
   "nbconvert_exporter": "python",
   "pygments_lexer": "ipython3",
   "version": "3.12.7"
  }
 },
 "nbformat": 4,
 "nbformat_minor": 2
}
